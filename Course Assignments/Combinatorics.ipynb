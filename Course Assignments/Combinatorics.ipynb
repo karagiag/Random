{
 "cells": [
  {
   "cell_type": "code",
   "execution_count": 1,
   "metadata": {
    "collapsed": true
   },
   "outputs": [],
   "source": [
    "import itertools as it"
   ]
  },
  {
   "cell_type": "code",
   "execution_count": 2,
   "metadata": {
    "collapsed": false
   },
   "outputs": [
    {
     "data": {
      "text/plain": [
       "['__doc__',\n",
       " '__name__',\n",
       " '__package__',\n",
       " 'chain',\n",
       " 'combinations',\n",
       " 'combinations_with_replacement',\n",
       " 'compress',\n",
       " 'count',\n",
       " 'cycle',\n",
       " 'dropwhile',\n",
       " 'groupby',\n",
       " 'ifilter',\n",
       " 'ifilterfalse',\n",
       " 'imap',\n",
       " 'islice',\n",
       " 'izip',\n",
       " 'izip_longest',\n",
       " 'permutations',\n",
       " 'product',\n",
       " 'repeat',\n",
       " 'starmap',\n",
       " 'takewhile',\n",
       " 'tee']"
      ]
     },
     "execution_count": 2,
     "metadata": {},
     "output_type": "execute_result"
    }
   ],
   "source": [
    "dir(it)"
   ]
  },
  {
   "cell_type": "code",
   "execution_count": 35,
   "metadata": {
    "collapsed": false
   },
   "outputs": [],
   "source": [
    "a=list(it.product('HT',repeat=3))"
   ]
  },
  {
   "cell_type": "code",
   "execution_count": 36,
   "metadata": {
    "collapsed": false
   },
   "outputs": [
    {
     "data": {
      "text/plain": [
       "[('H', 'H', 'H'),\n",
       " ('H', 'H', 'T'),\n",
       " ('H', 'T', 'H'),\n",
       " ('H', 'T', 'T'),\n",
       " ('T', 'H', 'H'),\n",
       " ('T', 'H', 'T'),\n",
       " ('T', 'T', 'H'),\n",
       " ('T', 'T', 'T')]"
      ]
     },
     "execution_count": 36,
     "metadata": {},
     "output_type": "execute_result"
    }
   ],
   "source": [
    "a"
   ]
  },
  {
   "cell_type": "code",
   "execution_count": 15,
   "metadata": {
    "collapsed": false
   },
   "outputs": [
    {
     "name": "stdout",
     "output_type": "stream",
     "text": [
      "Help on class combinations in module itertools:\n",
      "\n",
      "class combinations(__builtin__.object)\n",
      " |  combinations(iterable, r) --> combinations object\n",
      " |  \n",
      " |  Return successive r-length combinations of elements in the iterable.\n",
      " |  \n",
      " |  combinations(range(4), 3) --> (0,1,2), (0,1,3), (0,2,3), (1,2,3)\n",
      " |  \n",
      " |  Methods defined here:\n",
      " |  \n",
      " |  __getattribute__(...)\n",
      " |      x.__getattribute__('name') <==> x.name\n",
      " |  \n",
      " |  __iter__(...)\n",
      " |      x.__iter__() <==> iter(x)\n",
      " |  \n",
      " |  next(...)\n",
      " |      x.next() -> the next value, or raise StopIteration\n",
      " |  \n",
      " |  ----------------------------------------------------------------------\n",
      " |  Data and other attributes defined here:\n",
      " |  \n",
      " |  __new__ = <built-in method __new__ of type object>\n",
      " |      T.__new__(S, ...) -> a new object with type S, a subtype of T\n",
      "\n"
     ]
    }
   ],
   "source": [
    "help(it.combinations)"
   ]
  },
  {
   "cell_type": "code",
   "execution_count": 42,
   "metadata": {
    "collapsed": false
   },
   "outputs": [
    {
     "name": "stdout",
     "output_type": "stream",
     "text": [
      "('a', 'a')\n",
      "('a', 'b')\n",
      "('a', 'c')\n",
      "('b', 'a')\n",
      "('b', 'b')\n",
      "('b', 'c')\n",
      "('c', 'a')\n",
      "('c', 'b')\n",
      "('c', 'c')\n",
      "9\n"
     ]
    }
   ],
   "source": [
    "count=0\n",
    "for x in it.product('abc',repeat=2):\n",
    "    count=count+1\n",
    "    print x\n",
    "print count"
   ]
  },
  {
   "cell_type": "code",
   "execution_count": 39,
   "metadata": {
    "collapsed": false
   },
   "outputs": [
    {
     "name": "stdout",
     "output_type": "stream",
     "text": [
      "('a', 'b')\n",
      "('a', 'c')\n",
      "('b', 'a')\n",
      "('b', 'c')\n",
      "('c', 'a')\n",
      "('c', 'b')\n",
      "6\n"
     ]
    }
   ],
   "source": [
    "count = 0\n",
    "for x in it.permutations('abc',2):\n",
    "    count = count+1\n",
    "    print x\n",
    "print count"
   ]
  },
  {
   "cell_type": "code",
   "execution_count": 60,
   "metadata": {
    "collapsed": false
   },
   "outputs": [
    {
     "name": "stdout",
     "output_type": "stream",
     "text": [
      "('a', 'b')\n",
      "('a', 'c')\n",
      "('b', 'c')\n",
      "3\n"
     ]
    }
   ],
   "source": [
    "count=0\n",
    "for x in it.combinations('abc',2):\n",
    "    count=count+1\n",
    "    print x\n",
    "print count"
   ]
  },
  {
   "cell_type": "code",
   "execution_count": 40,
   "metadata": {
    "collapsed": false
   },
   "outputs": [
    {
     "name": "stdout",
     "output_type": "stream",
     "text": [
      "('a', 'a')\n",
      "('a', 'b')\n",
      "('a', 'c')\n",
      "('b', 'b')\n",
      "('b', 'c')\n",
      "('c', 'c')\n",
      "6\n"
     ]
    }
   ],
   "source": [
    "count = 0\n",
    "for x in it.combinations_with_replacement('abc',2):\n",
    "    count = count+1\n",
    "    print x\n",
    "print count"
   ]
  },
  {
   "cell_type": "code",
   "execution_count": 47,
   "metadata": {
    "collapsed": false
   },
   "outputs": [
    {
     "name": "stdout",
     "output_type": "stream",
     "text": [
      "('1', '1')\n",
      "('1', '2')\n",
      "('1', '3')\n",
      "('1', '4')\n",
      "('1', '5')\n",
      "('1', '6')\n",
      "('2', '1')\n",
      "('2', '2')\n",
      "('2', '3')\n",
      "('2', '4')\n",
      "('2', '5')\n",
      "('2', '6')\n",
      "('3', '1')\n",
      "('3', '2')\n",
      "('3', '3')\n",
      "('3', '4')\n",
      "('3', '5')\n",
      "('3', '6')\n",
      "('4', '1')\n",
      "('4', '2')\n",
      "('4', '3')\n",
      "('4', '4')\n",
      "('4', '5')\n",
      "('4', '6')\n",
      "('5', '1')\n",
      "('5', '2')\n",
      "('5', '3')\n",
      "('5', '4')\n",
      "('5', '5')\n",
      "('5', '6')\n",
      "('6', '1')\n",
      "('6', '2')\n",
      "('6', '3')\n",
      "('6', '4')\n",
      "('6', '5')\n",
      "('6', '6')\n",
      "36\n"
     ]
    }
   ],
   "source": [
    "count=0\n",
    "for x in it.product('123456',repeat=2):\n",
    "    count=count+1\n",
    "    print x\n",
    "print count"
   ]
  },
  {
   "cell_type": "code",
   "execution_count": 53,
   "metadata": {
    "collapsed": false
   },
   "outputs": [
    {
     "name": "stdout",
     "output_type": "stream",
     "text": [
      "The average is 3.50334\n"
     ]
    }
   ],
   "source": [
    "# Average sum of dice throw\n",
    "from random import randint, seed\n",
    "from datetime import datetime\n",
    "\n",
    "seed(datetime.now())\n",
    "\n",
    "num_rounds = 10**5\n",
    "sum_of_values = 0\n",
    "\n",
    "for _ in range(num_rounds):\n",
    "    sum_of_values += randint(1, 6)\n",
    "    \n",
    "print(\"The average is {}\".format(sum_of_values/(num_rounds*1.0)))"
   ]
  },
  {
   "cell_type": "code",
   "execution_count": 64,
   "metadata": {
    "collapsed": false
   },
   "outputs": [
    {
     "name": "stdout",
     "output_type": "stream",
     "text": [
      "The dice [2, 2, 2, 2, 3, 3] is better than [1, 1, 1, 1, 6, 6]:\n",
      "out of 100000 rounds it won 33312 times more\n"
     ]
    }
   ],
   "source": [
    "#simulates the dice game where one has 2s&3s and the other 1s&6s.\n",
    "from random import randint, seed\n",
    "from datetime import datetime\n",
    "\n",
    "seed(datetime.now())\n",
    "\n",
    "dice1=[2, 2, 2, 2, 3, 3]\n",
    "dice2=[1, 1, 1, 1, 6, 6]\n",
    "\n",
    "num_rounds = 10**5\n",
    "\n",
    "assert len(dice1) == 6 and len(dice2) == 6\n",
    "\n",
    "num_dice1_wins = 0\n",
    "num_dice2_wins = 0\n",
    "\n",
    "for _ in range(num_rounds):\n",
    "    dice1_result = dice1[randint(0, 5)]\n",
    "    dice2_result = dice2[randint(0, 5)]\n",
    "\n",
    "    if dice1_result > dice2_result:\n",
    "            num_dice1_wins += 1\n",
    "    elif dice2_result > dice1_result:\n",
    "            num_dice2_wins += 1\n",
    "\n",
    "if num_dice1_wins > num_dice2_wins:\n",
    "        print(\"The dice {} is better than {}:\\nout of {} rounds it won {} times more\".format(dice1, dice2, num_rounds, num_dice1_wins-num_dice2_wins))\n",
    "elif num_dice2_wins > num_dice1_wins:\n",
    "        print(\"The dice {} is better than {}:\\nout of {} rounds it won {} times more\".format(dice2, dice1, num_rounds, num_dice2_wins-num_dice1_wins))\n",
    "else:\n",
    "        print(\"A tie\")\n"
   ]
  },
  {
   "cell_type": "code",
   "execution_count": null,
   "metadata": {
    "collapsed": true
   },
   "outputs": [],
   "source": []
  },
  {
   "cell_type": "code",
   "execution_count": null,
   "metadata": {
    "collapsed": true
   },
   "outputs": [],
   "source": []
  }
 ],
 "metadata": {
  "anaconda-cloud": {},
  "kernelspec": {
   "display_name": "Python [Root]",
   "language": "python",
   "name": "Python [Root]"
  },
  "language_info": {
   "codemirror_mode": {
    "name": "ipython",
    "version": 2
   },
   "file_extension": ".py",
   "mimetype": "text/x-python",
   "name": "python",
   "nbconvert_exporter": "python",
   "pygments_lexer": "ipython2",
   "version": "2.7.12"
  }
 },
 "nbformat": 4,
 "nbformat_minor": 0
}

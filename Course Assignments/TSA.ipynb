{
 "cells": [
  {
   "cell_type": "code",
   "execution_count": 1,
   "metadata": {
    "collapsed": false
   },
   "outputs": [
    {
     "name": "stderr",
     "output_type": "stream",
     "text": [
      "C:\\Users\\karagiag\\AppData\\Local\\Continuum\\Anaconda2\\lib\\site-packages\\statsmodels\\compat\\pandas.py:56: FutureWarning: The pandas.core.datetools module is deprecated and will be removed in a future version. Please use the pandas.tseries module instead.\n",
      "  from pandas.core import datetools\n"
     ]
    }
   ],
   "source": [
    "import pandas as pd\n",
    "import numpy as np\n",
    "import matplotlib.pyplot as plt\n",
    "import statsmodels.api as sm\n",
    "import statsmodels.tsa.stattools as ts"
   ]
  },
  {
   "cell_type": "code",
   "execution_count": 2,
   "metadata": {
    "collapsed": false
   },
   "outputs": [],
   "source": [
    "data = pd.read_csv(\"C:\\Users\\karagiag\\Downloads\\GLD.csv\", parse_dates = True, index_col=0)"
   ]
  },
  {
   "cell_type": "code",
   "execution_count": 3,
   "metadata": {
    "collapsed": false
   },
   "outputs": [],
   "source": [
    "data = data.rename(columns={\"Adj Close\":\"price\"})"
   ]
  },
  {
   "cell_type": "code",
   "execution_count": 4,
   "metadata": {
    "collapsed": false
   },
   "outputs": [
    {
     "data": {
      "text/plain": [
       "(-1.3493961757640049,\n",
       " 0.60628171262702313,\n",
       " 0L,\n",
       " 1466L,\n",
       " {'1%': -3.4348184769200056,\n",
       "  '10%': -2.5678206931092951,\n",
       "  '5%': -2.86351353803652},\n",
       " 5405.5251227203362)"
      ]
     },
     "execution_count": 4,
     "metadata": {},
     "output_type": "execute_result"
    }
   ],
   "source": [
    "# Test for Stationarity with ADF\n",
    "ts.adfuller(data['price'],1)\n",
    "\n",
    "# i.e. Yt = ρYt−1 + ut\n",
    "# Yt − Yt−1 = ρYt−1 − Yt−1 + u\n",
    "# ∆Yt = (ρ − 1)Yt−1 + ut\n",
    "#Let us call (ρ − 1) = δ, then ∆Yt = δYt−1 + ut\n",
    "#Ho δ = 0, we have a unit root (ρ=1)/nonstationary (i.e. a random walk without a drift)\n",
    "#Ha δ < 0,  this means ρ < 1 (there is no unit root and the series is stationary)"
   ]
  },
  {
   "cell_type": "code",
   "execution_count": 5,
   "metadata": {
    "collapsed": false
   },
   "outputs": [
    {
     "name": "stdout",
     "output_type": "stream",
     "text": [
      "Hurst(GLD): 0.451872070494\n"
     ]
    }
   ],
   "source": [
    "#Test for stationarity using the Hurst exponent\n",
    "#Thus it can be seen that if H = 0.5 we have a GBM, since it simply becomes the previous\n",
    "#relation. However if H= 0.5 then we have trending or mean-reverting behaviour. \n",
    "#H < 0.5 - The time series is mean reverting\n",
    "#H = 0.5 - The time series is a Geometric Brownian Motion\n",
    "#H > 0.5 - The time series is trending\n",
    "\n",
    "def hurst(ts):\n",
    "    \"\"\"Returns the Hurst Exponent of the time series vector ts\"\"\"\n",
    "# Create the range of lag values\n",
    "    lags = range(2, 100)\n",
    "# Calculate the array of the variances of the lagged differences\n",
    "    tau = [np.sqrt(np.std(np.subtract(ts[lag:], ts[:-lag]))) for lag in lags]\n",
    "# Use a linear fit to estimate the Hurst Exponent\n",
    "    poly = np.polyfit(np.log(lags), np.log(tau), 1)\n",
    "# Return the Hurst exponent from the polyfit output\n",
    "    return poly[0]*2.0\n",
    "\n",
    "print(\"Hurst(GLD): %s\" % hurst(data['price']))"
   ]
  },
  {
   "cell_type": "code",
   "execution_count": 6,
   "metadata": {
    "collapsed": true
   },
   "outputs": [],
   "source": [
    "# Test for Cointegration of GLD & GDX\n",
    "# in order to do that we find a linear combination of the two, we calculate their spread \n",
    "# i.e. residuals and examine if that is stationary with the ADF test above.\n",
    "GLD = pd.read_csv('C:/Users/karagiag/Downloads/Chan/GLD.csv', index_col=0, parse_dates=True)\n",
    "GDX = pd.read_csv('C:/Users/karagiag/Downloads/Chan/GDX.csv', index_col=0, parse_dates=True)"
   ]
  },
  {
   "cell_type": "code",
   "execution_count": 7,
   "metadata": {
    "collapsed": false
   },
   "outputs": [],
   "source": [
    "df = pd.DataFrame(index=GLD.index)\n",
    "df['GLD']=GLD['Adj Close']\n",
    "df['GDX']=GDX['Adj Close']"
   ]
  },
  {
   "cell_type": "code",
   "execution_count": 8,
   "metadata": {
    "collapsed": false
   },
   "outputs": [
    {
     "data": {
      "text/html": [
       "<div>\n",
       "<table border=\"1\" class=\"dataframe\">\n",
       "  <thead>\n",
       "    <tr style=\"text-align: right;\">\n",
       "      <th></th>\n",
       "      <th>GLD</th>\n",
       "      <th>GDX</th>\n",
       "    </tr>\n",
       "    <tr>\n",
       "      <th>Date</th>\n",
       "      <th></th>\n",
       "      <th></th>\n",
       "    </tr>\n",
       "  </thead>\n",
       "  <tbody>\n",
       "    <tr>\n",
       "      <th>2012-09-20</th>\n",
       "      <td>171.470001</td>\n",
       "      <td>52.353786</td>\n",
       "    </tr>\n",
       "    <tr>\n",
       "      <th>2012-09-21</th>\n",
       "      <td>171.960007</td>\n",
       "      <td>52.787186</td>\n",
       "    </tr>\n",
       "    <tr>\n",
       "      <th>2012-09-24</th>\n",
       "      <td>171.050003</td>\n",
       "      <td>51.005459</td>\n",
       "    </tr>\n",
       "    <tr>\n",
       "      <th>2012-09-25</th>\n",
       "      <td>170.770004</td>\n",
       "      <td>50.244617</td>\n",
       "    </tr>\n",
       "    <tr>\n",
       "      <th>2012-09-26</th>\n",
       "      <td>169.809998</td>\n",
       "      <td>50.466125</td>\n",
       "    </tr>\n",
       "  </tbody>\n",
       "</table>\n",
       "</div>"
      ],
      "text/plain": [
       "                   GLD        GDX\n",
       "Date                             \n",
       "2012-09-20  171.470001  52.353786\n",
       "2012-09-21  171.960007  52.787186\n",
       "2012-09-24  171.050003  51.005459\n",
       "2012-09-25  170.770004  50.244617\n",
       "2012-09-26  169.809998  50.466125"
      ]
     },
     "execution_count": 8,
     "metadata": {},
     "output_type": "execute_result"
    }
   ],
   "source": [
    "df.head()"
   ]
  },
  {
   "cell_type": "code",
   "execution_count": 11,
   "metadata": {
    "collapsed": false
   },
   "outputs": [
    {
     "data": {
      "text/plain": [
       "<matplotlib.legend.Legend at 0xb309d30>"
      ]
     },
     "execution_count": 11,
     "metadata": {},
     "output_type": "execute_result"
    },
    {
     "data": {
      "image/png": "[encoded data removed]",
      "text/plain": [
       "<matplotlib.figure.Figure at 0xb2e9828>"
      ]
     },
     "metadata": {},
     "output_type": "display_data"
    }
   ],
   "source": [
    "%matplotlib inline\n",
    "fig1, ax = plt.subplots()\n",
    "ax.plot(df.index,df['GLD'])\n",
    "ax.plot(df.index,df['GDX'])\n",
    "plt.ylabel('Price')\n",
    "plt.xlabel('Date')\n",
    "plt.legend()"
   ]
  },
  {
   "cell_type": "code",
   "execution_count": 12,
   "metadata": {
    "collapsed": false
   },
   "outputs": [
    {
     "data": {
      "text/plain": [
       "<matplotlib.text.Text at 0xb7209e8>"
      ]
     },
     "execution_count": 12,
     "metadata": {},
     "output_type": "execute_result"
    },
    {
     "data": {
      "image/png": "[encoded data removed]",
      "text/plain": [
       "<matplotlib.figure.Figure at 0xaf122b0>"
      ]
     },
     "metadata": {},
     "output_type": "display_data"
    }
   ],
   "source": [
    "plt.scatter(df['GLD'], df['GDX'])\n",
    "plt.ylabel('GLD')\n",
    "plt.xlabel('GDX')\n",
    "plt.title('Scatter Plot')"
   ]
  },
  {
   "cell_type": "code",
   "execution_count": 13,
   "metadata": {
    "collapsed": false
   },
   "outputs": [
    {
     "name": "stdout",
     "output_type": "stream",
     "text": [
      "4.7894982459\n"
     ]
    }
   ],
   "source": [
    "#Calculate hedge ratio\n",
    "model = sm.OLS(df['GLD'],df['GDX'])\n",
    "results = model.fit()\n",
    "beta= results.params[0]\n",
    "print beta"
   ]
  },
  {
   "cell_type": "code",
   "execution_count": 14,
   "metadata": {
    "collapsed": false
   },
   "outputs": [
    {
     "data": {
      "text/html": [
       "<div>\n",
       "<table border=\"1\" class=\"dataframe\">\n",
       "  <thead>\n",
       "    <tr style=\"text-align: right;\">\n",
       "      <th></th>\n",
       "      <th>GLD</th>\n",
       "      <th>GDX</th>\n",
       "      <th>res</th>\n",
       "    </tr>\n",
       "    <tr>\n",
       "      <th>Date</th>\n",
       "      <th></th>\n",
       "      <th></th>\n",
       "      <th></th>\n",
       "    </tr>\n",
       "  </thead>\n",
       "  <tbody>\n",
       "    <tr>\n",
       "      <th>2012-09-20</th>\n",
       "      <td>171.470001</td>\n",
       "      <td>52.353786</td>\n",
       "      <td>-79.278365</td>\n",
       "    </tr>\n",
       "    <tr>\n",
       "      <th>2012-09-21</th>\n",
       "      <td>171.960007</td>\n",
       "      <td>52.787186</td>\n",
       "      <td>-80.864128</td>\n",
       "    </tr>\n",
       "    <tr>\n",
       "      <th>2012-09-24</th>\n",
       "      <td>171.050003</td>\n",
       "      <td>51.005459</td>\n",
       "      <td>-73.240553</td>\n",
       "    </tr>\n",
       "    <tr>\n",
       "      <th>2012-09-25</th>\n",
       "      <td>170.770004</td>\n",
       "      <td>50.244617</td>\n",
       "      <td>-69.876501</td>\n",
       "    </tr>\n",
       "    <tr>\n",
       "      <th>2012-09-26</th>\n",
       "      <td>169.809998</td>\n",
       "      <td>50.466125</td>\n",
       "      <td>-71.897419</td>\n",
       "    </tr>\n",
       "  </tbody>\n",
       "</table>\n",
       "</div>"
      ],
      "text/plain": [
       "                   GLD        GDX        res\n",
       "Date                                        \n",
       "2012-09-20  171.470001  52.353786 -79.278365\n",
       "2012-09-21  171.960007  52.787186 -80.864128\n",
       "2012-09-24  171.050003  51.005459 -73.240553\n",
       "2012-09-25  170.770004  50.244617 -69.876501\n",
       "2012-09-26  169.809998  50.466125 -71.897419"
      ]
     },
     "execution_count": 14,
     "metadata": {},
     "output_type": "execute_result"
    }
   ],
   "source": [
    "# Calculate Residuals\n",
    "df['res']= df['GLD']-beta*df['GDX']\n",
    "df.head()"
   ]
  },
  {
   "cell_type": "code",
   "execution_count": 17,
   "metadata": {
    "collapsed": false
   },
   "outputs": [
    {
     "data": {
      "text/plain": [
       "<matplotlib.text.Text at 0xed4fcf8>"
      ]
     },
     "execution_count": 17,
     "metadata": {},
     "output_type": "execute_result"
    },
    {
     "data": {
      "image/png": "[encoded data removed]",
      "text/plain": [
       "<matplotlib.figure.Figure at 0xec3a080>"
      ]
     },
     "metadata": {},
     "output_type": "display_data"
    }
   ],
   "source": [
    "#Plot residuals\n",
    "fig3, ax = plt.subplots()\n",
    "ax.plot(df.index, df['res'])\n",
    "plt.xlabel('Date')\n",
    "plt.ylabel('Residuals')\n",
    "plt.title('Residuals Plot')"
   ]
  },
  {
   "cell_type": "code",
   "execution_count": 18,
   "metadata": {
    "collapsed": false
   },
   "outputs": [
    {
     "data": {
      "text/plain": [
       "(-3.888013090814308,\n",
       " 0.0021248567569935308,\n",
       " 1L,\n",
       " 1256L,\n",
       " {'1%': -3.4355671297788666,\n",
       "  '10%': -2.5679966213893057,\n",
       "  '5%': -2.8638438984080117},\n",
       " 5523.1389499733095)"
      ]
     },
     "execution_count": 18,
     "metadata": {},
     "output_type": "execute_result"
    }
   ],
   "source": [
    "ts.adfuller(df['res'],1)"
   ]
  },
  {
   "cell_type": "code",
   "execution_count": null,
   "metadata": {
    "collapsed": true
   },
   "outputs": [],
   "source": [
    "# Test statistic is smaller than the 1% critical value hence we can reject the Null Hypothesis\n",
    "#that there is a unit root, i.e. data is nonstationary. Hence residuals are stationary(mean-rev)\n",
    "# In other words GLD and GDX time-series are cointegrated."
   ]
  }
 ],
 "metadata": {
  "anaconda-cloud": {},
  "celltoolbar": "Raw Cell Format",
  "kernelspec": {
   "display_name": "Python [Root]",
   "language": "python",
   "name": "Python [Root]"
  },
  "language_info": {
   "codemirror_mode": {
    "name": "ipython",
    "version": 2
   },
   "file_extension": ".py",
   "mimetype": "text/x-python",
   "name": "python",
   "nbconvert_exporter": "python",
   "pygments_lexer": "ipython2",
   "version": "2.7.12"
  }
 },
 "nbformat": 4,
 "nbformat_minor": 0
}

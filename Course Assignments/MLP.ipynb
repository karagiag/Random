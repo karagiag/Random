{
 "cells": [
  {
   "cell_type": "code",
   "execution_count": 118,
   "metadata": {
    "collapsed": false
   },
   "outputs": [],
   "source": [
    "import pandas as pd\n",
    "import numpy as np\n",
    "from sklearn.model_selection import (train_test_split,KFold)\n",
    "from sklearn.metrics import mean_squared_error, r2_score\n",
    "from sklearn.neural_network import MLPRegressor\n",
    "from sklearn.preprocessing import StandardScaler\n",
    "import matplotlib.pyplot as plt\n",
    "%matplotlib inline"
   ]
  },
  {
   "cell_type": "code",
   "execution_count": 120,
   "metadata": {
    "collapsed": true
   },
   "outputs": [],
   "source": [
    "data = pd.read_csv('C:/Users/karagiag/Downloads/GE-FF.csv',parse_dates = True, index_col=0)"
   ]
  },
  {
   "cell_type": "code",
   "execution_count": 121,
   "metadata": {
    "collapsed": false
   },
   "outputs": [
    {
     "name": "stdout",
     "output_type": "stream",
     "text": [
      "<class 'pandas.core.frame.DataFrame'>\n",
      "DatetimeIndex: 14013 entries, 1962-01-03 to 2017-08-31\n",
      "Data columns (total 5 columns):\n",
      "ret       14013 non-null float64\n",
      "Mkt-RF    14013 non-null float64\n",
      "SMB       14013 non-null float64\n",
      "HML       14013 non-null float64\n",
      "RF        14013 non-null float64\n",
      "dtypes: float64(5)\n",
      "memory usage: 656.9 KB\n"
     ]
    }
   ],
   "source": [
    "data.info()"
   ]
  },
  {
   "cell_type": "code",
   "execution_count": 58,
   "metadata": {
    "collapsed": false
   },
   "outputs": [],
   "source": [
    "y=data['ret']"
   ]
  },
  {
   "cell_type": "code",
   "execution_count": 59,
   "metadata": {
    "collapsed": false
   },
   "outputs": [],
   "source": [
    "X = data.drop(['ret', 'RF'],axis=1)"
   ]
  },
  {
   "cell_type": "code",
   "execution_count": 61,
   "metadata": {
    "collapsed": false
   },
   "outputs": [],
   "source": [
    "#When you have training and test data, fit a scaler on training data and use this scaler on test data. \n",
    "#Here, scale only features (independent variables), not target variable y.\n",
    "X_train, X_test, y_train, y_test = train_test_split(X,y,test_size = 0.33, random_state=42)"
   ]
  },
  {
   "cell_type": "code",
   "execution_count": null,
   "metadata": {
    "collapsed": true
   },
   "outputs": [],
   "source": [
    "#Use sklearn.neural_nework.MLPRegressor to do a 5-fold cross validation using sklearn's KFold.\n",
    "#The cross validation must be performed on the training data. Use following parameter settings\n",
    "#for MLPRegressor: activation = 'tanh', solver = 'sgd', learning_rate='constant', random_state=42,\n",
    "#batch_size=40, learning_rate_init = 0.001\n",
    "#Now, consider two different settings for the number of hidden units:\n",
    "#(a) hidden_layer_sizes = (2,) (b) hidden_layer_sizes = (15,)\n",
    "#Report the average Root Mean Squared Error (RMSE) value based on your 5-fold cross validation \n",
    "#for each model: (a) and (b)"
   ]
  },
  {
   "cell_type": "code",
   "execution_count": 139,
   "metadata": {
    "collapsed": false
   },
   "outputs": [],
   "source": [
    "#Cross Validation\n",
    "#http://scikit-learn.org/stable/modules/cross_validation.html\n",
    "param_hidden_layers = [(350,),(1750,)]\n",
    "n_folds = 5\n",
    "kf = KFold(n_splits=n_folds)"
   ]
  },
  {
   "cell_type": "code",
   "execution_count": 143,
   "metadata": {
    "collapsed": false
   },
   "outputs": [
    {
     "name": "stdout",
     "output_type": "stream",
     "text": [
      "<hidden layer: (350,)>\n",
      " Average RMSE (CV): 0.0265233999204\n",
      "\n",
      "<hidden layer: (1750,)>\n",
      " Average RMSE (CV): 0.022438167924\n",
      "\n"
     ]
    }
   ],
   "source": [
    "for param_hidden in param_hidden_layers:\n",
    "    aRMSE = 0\n",
    "    for train_idx, test_idx in kf.split(X_train):\n",
    "        regMLP = MLPRegressor(activation = 'relu',\n",
    "                              solver = 'sgd',\n",
    "                              learning_rate='constant',\n",
    "                              random_state=42,\n",
    "                              batch_size=100,\n",
    "                              learning_rate_init = 0.001,\n",
    "                              hidden_layer_sizes = param_hidden)\n",
    "        stdScaler = StandardScaler()\n",
    "        xTrain = stdScaler.fit_transform(X_train.iloc[train_idx,:])\n",
    "        yTrain = y_train.iloc[train_idx]\n",
    "            \n",
    "        regMLP.fit(xTrain,yTrain)\n",
    "        aRMSE += np.sqrt(mean_squared_error(y_train.iloc[test_idx],\n",
    "                                            regMLP.predict(stdScaler.transform(X_train.iloc[test_idx,:]))))/n_folds\n",
    "    print '<hidden layer: {}>\\n Average RMSE (CV): {}\\n'.format(param_hidden,aRMSE)"
   ]
  },
  {
   "cell_type": "code",
   "execution_count": 144,
   "metadata": {
    "collapsed": true
   },
   "outputs": [],
   "source": [
    "#Now, using the same parameters used in part 1), train MLPRegressor models on whole training \n",
    "#data and report RMSE score for both Train and Test set (Again, use StandardScaler). \n",
    "#Which model works better, (a) or (b)? \n",
    "#Briefly analyze the result in terms of the number of hidden units"
   ]
  },
  {
   "cell_type": "code",
   "execution_count": 148,
   "metadata": {
    "collapsed": false
   },
   "outputs": [
    {
     "name": "stdout",
     "output_type": "stream",
     "text": [
      "<hidden layer: (350,)>\n",
      " RMSE (Train) = 0.0193378011582, RMSE (Test) = 0.018895771653\n",
      " r2_score (Train) = 0.0764289706201, r2_score(Test)=0.151649117988\n",
      "\n",
      "<hidden layer: (1750,)>\n",
      " RMSE (Train) = 0.0164503480336, RMSE (Test) = 0.0164412700888\n",
      " r2_score (Train) = 0.331646383912, r2_score(Test)=0.357730972715\n",
      "\n"
     ]
    }
   ],
   "source": [
    "RMSE_train_test = {}\n",
    "regMLPs = {}\n",
    "r2_scores = {}\n",
    "for param_hidden in param_hidden_layers:\n",
    "    regMLP = MLPRegressor(activation = 'tanh',\n",
    "                          solver = 'sgd',\n",
    "                          learning_rate='adaptive',\n",
    "                          random_state=42,\n",
    "                          batch_size=40,\n",
    "                          learning_rate_init = 0.001,\n",
    "                          hidden_layer_sizes = param_hidden)\n",
    "    stdScaler = StandardScaler()\n",
    "    xTrain = stdScaler.fit_transform(X_train)\n",
    "    regMLP.fit(xTrain,y_train)\n",
    "    RMSE_train_test[param_hidden] = [np.sqrt(mean_squared_error(y_train,regMLP.predict(xTrain))),\n",
    "                                     np.sqrt(mean_squared_error(y_test,regMLP.predict(stdScaler.transform(X_test))))]\n",
    "    r2_scores[param_hidden] = [r2_score(y_train,regMLP.predict(xTrain)),\n",
    "                               r2_score(y_test,regMLP.predict(stdScaler.transform(X_test)))]\n",
    "    regMLPs[param_hidden] = regMLP\n",
    "    \n",
    "    print '<hidden layer: {}>\\n RMSE (Train) = {}, RMSE (Test) = {}\\n r2_score (Train) = {}, r2_score(Test)={}\\n'.format(param_hidden,\n",
    "                                                                                                                         RMSE_train_test[param_hidden][0],\n",
    "                                                                                                                         RMSE_train_test[param_hidden][1],\n",
    "                                                                                                                         r2_scores[param_hidden][0],\n",
    "                                                                                                                         r2_scores[param_hidden][1])"
   ]
  },
  {
   "cell_type": "code",
   "execution_count": 115,
   "metadata": {
    "collapsed": true
   },
   "outputs": [],
   "source": [
    "#MLP regressor with 15 hidden units performed better than the one with only 2 hidden units. \n",
    "#Increasing number of hidden units is directly related to the complexity of model, \n",
    "#and this regression problem was better fit by the more complex model.\n",
    "#(Note: Increasing the number of hidden units and hidden layers will make model more complex. \n",
    "#However, excessive number of hidden units and hidden layers can also hurt your model \n",
    "#by leading it to overfit."
   ]
  },
  {
   "cell_type": "code",
   "execution_count": 116,
   "metadata": {
    "collapsed": true
   },
   "outputs": [],
   "source": [
    "#MLPRegressor has a built-in attribute loss_curve_ which returns the loss at each epoch \n",
    "#(misleadingly referred to as \"iteration\" in scikit documentation, though they use epoch \n",
    "#in the actual code!). For example, if your model is named as my_model you can call it as \n",
    "#my_model.loss_curve_ (example). Plot two curves for model (a) and (b) in one figure, \n",
    "#where X-axis is epoch number and Y-axis is squared root of loss_curve_ value."
   ]
  },
  {
   "cell_type": "code",
   "execution_count": 149,
   "metadata": {
    "collapsed": false
   },
   "outputs": [
    {
     "data": {
      "text/plain": [
       "<matplotlib.text.Text at 0x12de9d90>"
      ]
     },
     "execution_count": 149,
     "metadata": {},
     "output_type": "execute_result"
    },
    {
     "data": {
      "image/png": "[encoded data removed]",
      "text/plain": [
       "<matplotlib.figure.Figure at 0x1355e670>"
      ]
     },
     "metadata": {},
     "output_type": "display_data"
    }
   ],
   "source": [
    "for param_hidden in param_hidden_layers:\n",
    "    regMLP = regMLPs[param_hidden]\n",
    "    plt.plot(np.sqrt(regMLP.loss_curve_), label = str(param_hidden))\n",
    "\n",
    "plt.legend()\n",
    "plt.ylabel('RMSE')\n",
    "plt.xlabel('epoch number')"
   ]
  },
  {
   "cell_type": "code",
   "execution_count": 138,
   "metadata": {
    "collapsed": false
   },
   "outputs": [
    {
     "data": {
      "image/png": "[encoded data removed]",
      "text/plain": [
       "<matplotlib.figure.Figure at 0x1287f210>"
      ]
     },
     "metadata": {},
     "output_type": "display_data"
    },
    {
     "data": {
      "image/png": "[encoded data removed]",
      "text/plain": [
       "<matplotlib.figure.Figure at 0x13c1c330>"
      ]
     },
     "metadata": {},
     "output_type": "display_data"
    }
   ],
   "source": [
    "for param_hidden in param_hidden_layers:\n",
    "    y_hat = regMLPs[param_hidden].predict(stdScaler.transform(X_test))\n",
    " \n",
    "    fig, ax=plt.subplots()\n",
    "    plt.scatter(y_test,y_hat)\n",
    "    plt.ylabel('Measured')\n",
    "    plt.ylabel('Predicted')\n",
    "    plt.title('Hidden Layer Size{}'.format(param_hidden))\n",
    "    #plt.ylim(y_test.min(),y_test.max())\n",
    "    #plt.xlim(y_test.min(),y_test.max())\n",
    "    #plt.plot([-.15,.15],[-.15,.15], 'k--')"
   ]
  },
  {
   "cell_type": "code",
   "execution_count": null,
   "metadata": {
    "collapsed": true
   },
   "outputs": [],
   "source": []
  }
 ],
 "metadata": {
  "anaconda-cloud": {},
  "kernelspec": {
   "display_name": "Python [Root]",
   "language": "python",
   "name": "Python [Root]"
  },
  "language_info": {
   "codemirror_mode": {
    "name": "ipython",
    "version": 2
   },
   "file_extension": ".py",
   "mimetype": "text/x-python",
   "name": "python",
   "nbconvert_exporter": "python",
   "pygments_lexer": "ipython2",
   "version": "2.7.12"
  }
 },
 "nbformat": 4,
 "nbformat_minor": 0
}

{
 "cells": [
  {
   "cell_type": "code",
   "execution_count": 1,
   "metadata": {
    "collapsed": true
   },
   "outputs": [],
   "source": [
    "import numpy as np\n",
    "import pandas as pd"
   ]
  },
  {
   "cell_type": "code",
   "execution_count": 2,
   "metadata": {
    "collapsed": true
   },
   "outputs": [],
   "source": [
    "df = pd.DataFrame([10,20,30,40], columns=['numbers'],index=['a','b','c','d'])"
   ]
  },
  {
   "cell_type": "code",
   "execution_count": 3,
   "metadata": {
    "collapsed": false
   },
   "outputs": [
    {
     "data": {
      "text/html": [
       "<div>\n",
       "<table border=\"1\" class=\"dataframe\">\n",
       "  <thead>\n",
       "    <tr style=\"text-align: right;\">\n",
       "      <th></th>\n",
       "      <th>numbers</th>\n",
       "    </tr>\n",
       "  </thead>\n",
       "  <tbody>\n",
       "    <tr>\n",
       "      <th>a</th>\n",
       "      <td>10</td>\n",
       "    </tr>\n",
       "    <tr>\n",
       "      <th>b</th>\n",
       "      <td>20</td>\n",
       "    </tr>\n",
       "    <tr>\n",
       "      <th>c</th>\n",
       "      <td>30</td>\n",
       "    </tr>\n",
       "    <tr>\n",
       "      <th>d</th>\n",
       "      <td>40</td>\n",
       "    </tr>\n",
       "  </tbody>\n",
       "</table>\n",
       "</div>"
      ],
      "text/plain": [
       "   numbers\n",
       "a       10\n",
       "b       20\n",
       "c       30\n",
       "d       40"
      ]
     },
     "execution_count": 3,
     "metadata": {},
     "output_type": "execute_result"
    }
   ],
   "source": [
    "df"
   ]
  },
  {
   "cell_type": "code",
   "execution_count": 12,
   "metadata": {
    "collapsed": false
   },
   "outputs": [],
   "source": [
    "a= np.random.standard_normal((9,4))"
   ]
  },
  {
   "cell_type": "code",
   "execution_count": 15,
   "metadata": {
    "collapsed": false
   },
   "outputs": [],
   "source": [
    "df = pd.DataFrame(a)"
   ]
  },
  {
   "cell_type": "code",
   "execution_count": 17,
   "metadata": {
    "collapsed": false
   },
   "outputs": [],
   "source": [
    "df.columns = [['No1','No2','No3','No4']]"
   ]
  },
  {
   "cell_type": "code",
   "execution_count": 18,
   "metadata": {
    "collapsed": false
   },
   "outputs": [
    {
     "data": {
      "text/html": [
       "<div>\n",
       "<table border=\"1\" class=\"dataframe\">\n",
       "  <thead>\n",
       "    <tr style=\"text-align: right;\">\n",
       "      <th></th>\n",
       "      <th>No1</th>\n",
       "      <th>No2</th>\n",
       "      <th>No3</th>\n",
       "      <th>No4</th>\n",
       "    </tr>\n",
       "  </thead>\n",
       "  <tbody>\n",
       "    <tr>\n",
       "      <th>0</th>\n",
       "      <td>-0.449459</td>\n",
       "      <td>-1.864139</td>\n",
       "      <td>0.961577</td>\n",
       "      <td>0.739033</td>\n",
       "    </tr>\n",
       "    <tr>\n",
       "      <th>1</th>\n",
       "      <td>0.089364</td>\n",
       "      <td>1.787013</td>\n",
       "      <td>0.595342</td>\n",
       "      <td>-0.916676</td>\n",
       "    </tr>\n",
       "    <tr>\n",
       "      <th>2</th>\n",
       "      <td>0.044629</td>\n",
       "      <td>1.716756</td>\n",
       "      <td>-0.309424</td>\n",
       "      <td>-1.128610</td>\n",
       "    </tr>\n",
       "    <tr>\n",
       "      <th>3</th>\n",
       "      <td>-0.623386</td>\n",
       "      <td>-0.228129</td>\n",
       "      <td>-1.630096</td>\n",
       "      <td>0.875012</td>\n",
       "    </tr>\n",
       "    <tr>\n",
       "      <th>4</th>\n",
       "      <td>0.149538</td>\n",
       "      <td>1.112747</td>\n",
       "      <td>-0.238770</td>\n",
       "      <td>-0.983098</td>\n",
       "    </tr>\n",
       "    <tr>\n",
       "      <th>5</th>\n",
       "      <td>-0.306254</td>\n",
       "      <td>-0.322803</td>\n",
       "      <td>0.569091</td>\n",
       "      <td>-0.000541</td>\n",
       "    </tr>\n",
       "    <tr>\n",
       "      <th>6</th>\n",
       "      <td>0.267128</td>\n",
       "      <td>1.716267</td>\n",
       "      <td>-0.590851</td>\n",
       "      <td>2.062638</td>\n",
       "    </tr>\n",
       "    <tr>\n",
       "      <th>7</th>\n",
       "      <td>-0.406208</td>\n",
       "      <td>-0.628548</td>\n",
       "      <td>-2.268071</td>\n",
       "      <td>-0.471591</td>\n",
       "    </tr>\n",
       "    <tr>\n",
       "      <th>8</th>\n",
       "      <td>0.783591</td>\n",
       "      <td>-0.992269</td>\n",
       "      <td>-0.297883</td>\n",
       "      <td>1.170153</td>\n",
       "    </tr>\n",
       "  </tbody>\n",
       "</table>\n",
       "</div>"
      ],
      "text/plain": [
       "        No1       No2       No3       No4\n",
       "0 -0.449459 -1.864139  0.961577  0.739033\n",
       "1  0.089364  1.787013  0.595342 -0.916676\n",
       "2  0.044629  1.716756 -0.309424 -1.128610\n",
       "3 -0.623386 -0.228129 -1.630096  0.875012\n",
       "4  0.149538  1.112747 -0.238770 -0.983098\n",
       "5 -0.306254 -0.322803  0.569091 -0.000541\n",
       "6  0.267128  1.716267 -0.590851  2.062638\n",
       "7 -0.406208 -0.628548 -2.268071 -0.471591\n",
       "8  0.783591 -0.992269 -0.297883  1.170153"
      ]
     },
     "execution_count": 18,
     "metadata": {},
     "output_type": "execute_result"
    }
   ],
   "source": [
    "df"
   ]
  },
  {
   "cell_type": "code",
   "execution_count": 19,
   "metadata": {
    "collapsed": false
   },
   "outputs": [
    {
     "data": {
      "text/plain": [
       "DatetimeIndex(['2015-01-31', '2015-02-28', '2015-03-31', '2015-04-30',\n",
       "               '2015-05-31', '2015-06-30', '2015-07-31', '2015-08-31',\n",
       "               '2015-09-30'],\n",
       "              dtype='datetime64[ns]', freq='M')"
      ]
     },
     "execution_count": 19,
     "metadata": {},
     "output_type": "execute_result"
    }
   ],
   "source": [
    "dates = pd.date_range('2015-01-01', periods=9,freq='M')\n",
    "dates"
   ]
  },
  {
   "cell_type": "code",
   "execution_count": 20,
   "metadata": {
    "collapsed": false
   },
   "outputs": [
    {
     "data": {
      "text/html": [
       "<div>\n",
       "<table border=\"1\" class=\"dataframe\">\n",
       "  <thead>\n",
       "    <tr style=\"text-align: right;\">\n",
       "      <th></th>\n",
       "      <th>No1</th>\n",
       "      <th>No2</th>\n",
       "      <th>No3</th>\n",
       "      <th>No4</th>\n",
       "    </tr>\n",
       "  </thead>\n",
       "  <tbody>\n",
       "    <tr>\n",
       "      <th>2015-01-31</th>\n",
       "      <td>-0.449459</td>\n",
       "      <td>-1.864139</td>\n",
       "      <td>0.961577</td>\n",
       "      <td>0.739033</td>\n",
       "    </tr>\n",
       "    <tr>\n",
       "      <th>2015-02-28</th>\n",
       "      <td>0.089364</td>\n",
       "      <td>1.787013</td>\n",
       "      <td>0.595342</td>\n",
       "      <td>-0.916676</td>\n",
       "    </tr>\n",
       "    <tr>\n",
       "      <th>2015-03-31</th>\n",
       "      <td>0.044629</td>\n",
       "      <td>1.716756</td>\n",
       "      <td>-0.309424</td>\n",
       "      <td>-1.128610</td>\n",
       "    </tr>\n",
       "    <tr>\n",
       "      <th>2015-04-30</th>\n",
       "      <td>-0.623386</td>\n",
       "      <td>-0.228129</td>\n",
       "      <td>-1.630096</td>\n",
       "      <td>0.875012</td>\n",
       "    </tr>\n",
       "    <tr>\n",
       "      <th>2015-05-31</th>\n",
       "      <td>0.149538</td>\n",
       "      <td>1.112747</td>\n",
       "      <td>-0.238770</td>\n",
       "      <td>-0.983098</td>\n",
       "    </tr>\n",
       "    <tr>\n",
       "      <th>2015-06-30</th>\n",
       "      <td>-0.306254</td>\n",
       "      <td>-0.322803</td>\n",
       "      <td>0.569091</td>\n",
       "      <td>-0.000541</td>\n",
       "    </tr>\n",
       "    <tr>\n",
       "      <th>2015-07-31</th>\n",
       "      <td>0.267128</td>\n",
       "      <td>1.716267</td>\n",
       "      <td>-0.590851</td>\n",
       "      <td>2.062638</td>\n",
       "    </tr>\n",
       "    <tr>\n",
       "      <th>2015-08-31</th>\n",
       "      <td>-0.406208</td>\n",
       "      <td>-0.628548</td>\n",
       "      <td>-2.268071</td>\n",
       "      <td>-0.471591</td>\n",
       "    </tr>\n",
       "    <tr>\n",
       "      <th>2015-09-30</th>\n",
       "      <td>0.783591</td>\n",
       "      <td>-0.992269</td>\n",
       "      <td>-0.297883</td>\n",
       "      <td>1.170153</td>\n",
       "    </tr>\n",
       "  </tbody>\n",
       "</table>\n",
       "</div>"
      ],
      "text/plain": [
       "                 No1       No2       No3       No4\n",
       "2015-01-31 -0.449459 -1.864139  0.961577  0.739033\n",
       "2015-02-28  0.089364  1.787013  0.595342 -0.916676\n",
       "2015-03-31  0.044629  1.716756 -0.309424 -1.128610\n",
       "2015-04-30 -0.623386 -0.228129 -1.630096  0.875012\n",
       "2015-05-31  0.149538  1.112747 -0.238770 -0.983098\n",
       "2015-06-30 -0.306254 -0.322803  0.569091 -0.000541\n",
       "2015-07-31  0.267128  1.716267 -0.590851  2.062638\n",
       "2015-08-31 -0.406208 -0.628548 -2.268071 -0.471591\n",
       "2015-09-30  0.783591 -0.992269 -0.297883  1.170153"
      ]
     },
     "execution_count": 20,
     "metadata": {},
     "output_type": "execute_result"
    }
   ],
   "source": [
    "df.index = dates\n",
    "df"
   ]
  },
  {
   "cell_type": "code",
   "execution_count": 29,
   "metadata": {
    "collapsed": false
   },
   "outputs": [
    {
     "name": "stdout",
     "output_type": "stream",
     "text": [
      "Wall time: 11 ms\n"
     ]
    },
    {
     "data": {
      "text/html": [
       "<div>\n",
       "<table border=\"1\" class=\"dataframe\">\n",
       "  <thead>\n",
       "    <tr style=\"text-align: right;\">\n",
       "      <th></th>\n",
       "      <th>No1</th>\n",
       "      <th>No2</th>\n",
       "      <th>No3</th>\n",
       "      <th>No4</th>\n",
       "    </tr>\n",
       "  </thead>\n",
       "  <tbody>\n",
       "    <tr>\n",
       "      <th>count</th>\n",
       "      <td>9.000000</td>\n",
       "      <td>9.000000</td>\n",
       "      <td>9.000000</td>\n",
       "      <td>9.000000</td>\n",
       "    </tr>\n",
       "    <tr>\n",
       "      <th>mean</th>\n",
       "      <td>-0.050117</td>\n",
       "      <td>0.255211</td>\n",
       "      <td>-0.356565</td>\n",
       "      <td>0.149591</td>\n",
       "    </tr>\n",
       "    <tr>\n",
       "      <th>std</th>\n",
       "      <td>0.439392</td>\n",
       "      <td>1.357810</td>\n",
       "      <td>1.051822</td>\n",
       "      <td>1.120105</td>\n",
       "    </tr>\n",
       "    <tr>\n",
       "      <th>min</th>\n",
       "      <td>-0.623386</td>\n",
       "      <td>-1.864139</td>\n",
       "      <td>-2.268071</td>\n",
       "      <td>-1.128610</td>\n",
       "    </tr>\n",
       "    <tr>\n",
       "      <th>25%</th>\n",
       "      <td>-0.406208</td>\n",
       "      <td>-0.628548</td>\n",
       "      <td>-0.590851</td>\n",
       "      <td>-0.916676</td>\n",
       "    </tr>\n",
       "    <tr>\n",
       "      <th>50%</th>\n",
       "      <td>0.044629</td>\n",
       "      <td>-0.228129</td>\n",
       "      <td>-0.297883</td>\n",
       "      <td>-0.000541</td>\n",
       "    </tr>\n",
       "    <tr>\n",
       "      <th>75%</th>\n",
       "      <td>0.149538</td>\n",
       "      <td>1.716267</td>\n",
       "      <td>0.569091</td>\n",
       "      <td>0.875012</td>\n",
       "    </tr>\n",
       "    <tr>\n",
       "      <th>max</th>\n",
       "      <td>0.783591</td>\n",
       "      <td>1.787013</td>\n",
       "      <td>0.961577</td>\n",
       "      <td>2.062638</td>\n",
       "    </tr>\n",
       "  </tbody>\n",
       "</table>\n",
       "</div>"
      ],
      "text/plain": [
       "            No1       No2       No3       No4\n",
       "count  9.000000  9.000000  9.000000  9.000000\n",
       "mean  -0.050117  0.255211 -0.356565  0.149591\n",
       "std    0.439392  1.357810  1.051822  1.120105\n",
       "min   -0.623386 -1.864139 -2.268071 -1.128610\n",
       "25%   -0.406208 -0.628548 -0.590851 -0.916676\n",
       "50%    0.044629 -0.228129 -0.297883 -0.000541\n",
       "75%    0.149538  1.716267  0.569091  0.875012\n",
       "max    0.783591  1.787013  0.961577  2.062638"
      ]
     },
     "execution_count": 29,
     "metadata": {},
     "output_type": "execute_result"
    }
   ],
   "source": [
    "%%time\n",
    "df.describe()"
   ]
  },
  {
   "cell_type": "code",
   "execution_count": 24,
   "metadata": {
    "collapsed": true
   },
   "outputs": [],
   "source": [
    " %matplotlib inline"
   ]
  },
  {
   "cell_type": "code",
   "execution_count": 25,
   "metadata": {
    "collapsed": false
   },
   "outputs": [
    {
     "data": {
      "text/plain": [
       "<matplotlib.axes._subplots.AxesSubplot at 0x9bbdef0>"
      ]
     },
     "execution_count": 25,
     "metadata": {},
     "output_type": "execute_result"
    },
    {
     "data": {
      "image/png": "[encoded data removed]",
      "text/plain": [
       "<matplotlib.figure.Figure at 0x9bbd470>"
      ]
     },
     "metadata": {},
     "output_type": "display_data"
    }
   ],
   "source": [
    "df.cumsum().plot()"
   ]
  },
  {
   "cell_type": "code",
   "execution_count": 26,
   "metadata": {
    "collapsed": false
   },
   "outputs": [
    {
     "data": {
      "text/plain": [
       "<matplotlib.axes._subplots.AxesSubplot at 0x9e96080>"
      ]
     },
     "execution_count": 26,
     "metadata": {},
     "output_type": "execute_result"
    },
    {
     "data": {
      "image/png": "[encoded data removed]",
      "text/plain": [
       "<matplotlib.figure.Figure at 0x9bbd748>"
      ]
     },
     "metadata": {},
     "output_type": "display_data"
    }
   ],
   "source": [
    "df['No1'].cumsum().plot(style='r', lw=2.)"
   ]
  },
  {
   "cell_type": "code",
   "execution_count": 32,
   "metadata": {
    "collapsed": true
   },
   "outputs": [],
   "source": [
    "GLD = pd.read_csv('C:/Users/karagiag/Downloads/Chan/GLD.csv', index_col=0, parse_dates=True)\n",
    "GDX = pd.read_csv('C:/Users/karagiag/Downloads/Chan/GDX.csv', index_col=0, parse_dates=True)\n",
    "data = pd.concat([GLD['Close'],GDX['Close']],axis=1)\n",
    "data.columns = ['GLD','GDX']"
   ]
  },
  {
   "cell_type": "code",
   "execution_count": 34,
   "metadata": {
    "collapsed": false
   },
   "outputs": [],
   "source": [
    "rets = np.log(data/data.shift(1))"
   ]
  },
  {
   "cell_type": "code",
   "execution_count": 40,
   "metadata": {
    "collapsed": false
   },
   "outputs": [],
   "source": [
    "rets.columns = ['ret_gld','ret_gdx']"
   ]
  },
  {
   "cell_type": "code",
   "execution_count": 47,
   "metadata": {
    "collapsed": false
   },
   "outputs": [],
   "source": [
    "data['ret_gld'] = rets['ret_gld']\n",
    "data['ret_gdx'] = rets['ret_gdx']"
   ]
  },
  {
   "cell_type": "code",
   "execution_count": 49,
   "metadata": {
    "collapsed": false
   },
   "outputs": [
    {
     "data": {
      "text/html": [
       "<div>\n",
       "<table border=\"1\" class=\"dataframe\">\n",
       "  <thead>\n",
       "    <tr style=\"text-align: right;\">\n",
       "      <th></th>\n",
       "      <th>GLD</th>\n",
       "      <th>GDX</th>\n",
       "      <th>ret_gld</th>\n",
       "      <th>ret_gdx</th>\n",
       "    </tr>\n",
       "    <tr>\n",
       "      <th>Date</th>\n",
       "      <th></th>\n",
       "      <th></th>\n",
       "      <th></th>\n",
       "      <th></th>\n",
       "    </tr>\n",
       "  </thead>\n",
       "  <tbody>\n",
       "    <tr>\n",
       "      <th>2012-09-20</th>\n",
       "      <td>171.470001</td>\n",
       "      <td>54.360001</td>\n",
       "      <td>NaN</td>\n",
       "      <td>NaN</td>\n",
       "    </tr>\n",
       "    <tr>\n",
       "      <th>2012-09-21</th>\n",
       "      <td>171.960007</td>\n",
       "      <td>54.810001</td>\n",
       "      <td>0.002854</td>\n",
       "      <td>0.008244</td>\n",
       "    </tr>\n",
       "    <tr>\n",
       "      <th>2012-09-24</th>\n",
       "      <td>171.050003</td>\n",
       "      <td>52.959999</td>\n",
       "      <td>-0.005306</td>\n",
       "      <td>-0.034336</td>\n",
       "    </tr>\n",
       "    <tr>\n",
       "      <th>2012-09-25</th>\n",
       "      <td>170.770004</td>\n",
       "      <td>52.169998</td>\n",
       "      <td>-0.001638</td>\n",
       "      <td>-0.015029</td>\n",
       "    </tr>\n",
       "    <tr>\n",
       "      <th>2012-09-26</th>\n",
       "      <td>169.809998</td>\n",
       "      <td>52.400002</td>\n",
       "      <td>-0.005637</td>\n",
       "      <td>0.004399</td>\n",
       "    </tr>\n",
       "  </tbody>\n",
       "</table>\n",
       "</div>"
      ],
      "text/plain": [
       "                   GLD        GDX   ret_gld   ret_gdx\n",
       "Date                                                 \n",
       "2012-09-20  171.470001  54.360001       NaN       NaN\n",
       "2012-09-21  171.960007  54.810001  0.002854  0.008244\n",
       "2012-09-24  171.050003  52.959999 -0.005306 -0.034336\n",
       "2012-09-25  170.770004  52.169998 -0.001638 -0.015029\n",
       "2012-09-26  169.809998  52.400002 -0.005637  0.004399"
      ]
     },
     "execution_count": 49,
     "metadata": {},
     "output_type": "execute_result"
    }
   ],
   "source": [
    "data.head()"
   ]
  },
  {
   "cell_type": "code",
   "execution_count": 51,
   "metadata": {
    "collapsed": false
   },
   "outputs": [
    {
     "data": {
      "text/plain": [
       "array([<matplotlib.axes._subplots.AxesSubplot object at 0x000000000A2DD2B0>,\n",
       "       <matplotlib.axes._subplots.AxesSubplot object at 0x000000000A4DA1D0>,\n",
       "       <matplotlib.axes._subplots.AxesSubplot object at 0x000000000A5FF0B8>,\n",
       "       <matplotlib.axes._subplots.AxesSubplot object at 0x000000000A6F00F0>], dtype=object)"
      ]
     },
     "execution_count": 51,
     "metadata": {},
     "output_type": "execute_result"
    },
    {
     "data": {
      "image/png": "[encoded data removed]",
      "text/plain": [
       "<matplotlib.figure.Figure at 0x9f647b8>"
      ]
     },
     "metadata": {},
     "output_type": "display_data"
    }
   ],
   "source": [
    "data.plot(subplots=True)"
   ]
  },
  {
   "cell_type": "code",
   "execution_count": 55,
   "metadata": {
    "collapsed": false
   },
   "outputs": [
    {
     "data": {
      "text/plain": [
       "\n",
       "-------------------------Summary of Regression Analysis-------------------------\n",
       "\n",
       "Formula: Y ~ <x> + <intercept>\n",
       "\n",
       "Number of Observations:         1257\n",
       "Number of Degrees of Freedom:   2\n",
       "\n",
       "R-squared:         0.6097\n",
       "Adj R-squared:     0.6094\n",
       "\n",
       "Rmse:              0.0063\n",
       "\n",
       "F-stat (1, 1255):  1960.4180, p-value:     0.0000\n",
       "\n",
       "Degrees of Freedom: model 1, resid 1255\n",
       "\n",
       "-----------------------Summary of Estimated Coefficients------------------------\n",
       "      Variable       Coef    Std Err     t-stat    p-value    CI 2.5%   CI 97.5%\n",
       "--------------------------------------------------------------------------------\n",
       "             x     0.2924     0.0066      44.28     0.0000     0.2794     0.3053\n",
       "     intercept    -0.0001     0.0002      -0.37     0.7122    -0.0004     0.0003\n",
       "---------------------------------End of Summary---------------------------------"
      ]
     },
     "execution_count": 55,
     "metadata": {},
     "output_type": "execute_result"
    }
   ],
   "source": [
    "#This will be removed in future version use statsmodel instead\n",
    "model = pd.ols(y=data['ret_gld'],x=data['ret_gdx'])\n",
    "model"
   ]
  },
  {
   "cell_type": "code",
   "execution_count": 56,
   "metadata": {
    "collapsed": true
   },
   "outputs": [],
   "source": [
    "import statsmodels.api as sm"
   ]
  },
  {
   "cell_type": "code",
   "execution_count": 64,
   "metadata": {
    "collapsed": true
   },
   "outputs": [],
   "source": [
    "model = sm.OLS(data['ret_gld'],data['ret_gdx'],missing='drop')"
   ]
  },
  {
   "cell_type": "code",
   "execution_count": 65,
   "metadata": {
    "collapsed": false
   },
   "outputs": [
    {
     "name": "stdout",
     "output_type": "stream",
     "text": [
      "                            OLS Regression Results                            \n",
      "==============================================================================\n",
      "Dep. Variable:                ret_gld   R-squared:                       0.610\n",
      "Model:                            OLS   Adj. R-squared:                  0.610\n",
      "Method:                 Least Squares   F-statistic:                     1964.\n",
      "Date:                Fri, 22 Sep 2017   Prob (F-statistic):          5.11e-259\n",
      "Time:                        15:24:19   Log-Likelihood:                 4593.8\n",
      "No. Observations:                1257   AIC:                            -9186.\n",
      "Df Residuals:                    1256   BIC:                            -9180.\n",
      "Df Model:                           1                                         \n",
      "Covariance Type:            nonrobust                                         \n",
      "==============================================================================\n",
      "                 coef    std err          t      P>|t|      [95.0% Conf. Int.]\n",
      "------------------------------------------------------------------------------\n",
      "ret_gdx        0.2924      0.007     44.315      0.000         0.280     0.305\n",
      "==============================================================================\n",
      "Omnibus:                      350.091   Durbin-Watson:                   2.071\n",
      "Prob(Omnibus):                  0.000   Jarque-Bera (JB):             4655.882\n",
      "Skew:                          -0.904   Prob(JB):                         0.00\n",
      "Kurtosis:                      12.254   Cond. No.                         1.00\n",
      "==============================================================================\n",
      "\n",
      "Warnings:\n",
      "[1] Standard Errors assume that the covariance matrix of the errors is correctly specified.\n"
     ]
    }
   ],
   "source": [
    "results = model.fit()\n",
    "print results.summary()"
   ]
  },
  {
   "cell_type": "code",
   "execution_count": 66,
   "metadata": {
    "collapsed": false
   },
   "outputs": [
    {
     "data": {
      "text/plain": [
       "ret_gdx    0.292447\n",
       "dtype: float64"
      ]
     },
     "execution_count": 66,
     "metadata": {},
     "output_type": "execute_result"
    }
   ],
   "source": [
    "beta = results.params\n",
    "#No constant is added for this regression, if I want to add constant look below example"
   ]
  },
  {
   "cell_type": "code",
   "execution_count": 79,
   "metadata": {
    "collapsed": false
   },
   "outputs": [
    {
     "name": "stdout",
     "output_type": "stream",
     "text": [
      "                            OLS Regression Results                            \n",
      "==============================================================================\n",
      "Dep. Variable:                ret_gld   R-squared:                       0.610\n",
      "Model:                            OLS   Adj. R-squared:                  0.609\n",
      "Method:                 Least Squares   F-statistic:                     1960.\n",
      "Date:                Fri, 22 Sep 2017   Prob (F-statistic):          1.17e-258\n",
      "Time:                        15:40:50   Log-Likelihood:                 4593.9\n",
      "No. Observations:                1257   AIC:                            -9184.\n",
      "Df Residuals:                    1255   BIC:                            -9173.\n",
      "Df Model:                           1                                         \n",
      "Covariance Type:            nonrobust                                         \n",
      "==============================================================================\n",
      "                 coef    std err          t      P>|t|      [95.0% Conf. Int.]\n",
      "------------------------------------------------------------------------------\n",
      "const      -6.523e-05      0.000     -0.369      0.712        -0.000     0.000\n",
      "ret_gdx        0.2924      0.007     44.277      0.000         0.279     0.305\n",
      "==============================================================================\n",
      "Omnibus:                      350.207   Durbin-Watson:                   2.071\n",
      "Prob(Omnibus):                  0.000   Jarque-Bera (JB):             4659.592\n",
      "Skew:                          -0.904   Prob(JB):                         0.00\n",
      "Kurtosis:                      12.257   Cond. No.                         37.4\n",
      "==============================================================================\n",
      "\n",
      "Warnings:\n",
      "[1] Standard Errors assume that the covariance matrix of the errors is correctly specified.\n"
     ]
    }
   ],
   "source": [
    "model = sm.OLS(data['ret_gld'],sm.add_constant(data['ret_gdx']),missing='drop')\n",
    "results = model.fit()\n",
    "print results.summary()"
   ]
  },
  {
   "cell_type": "code",
   "execution_count": 80,
   "metadata": {
    "collapsed": false
   },
   "outputs": [
    {
     "data": {
      "text/plain": [
       "const     -0.000065\n",
       "ret_gdx    0.292387\n",
       "dtype: float64"
      ]
     },
     "execution_count": 80,
     "metadata": {},
     "output_type": "execute_result"
    }
   ],
   "source": [
    "results.params"
   ]
  },
  {
   "cell_type": "code",
   "execution_count": 78,
   "metadata": {
    "collapsed": true
   },
   "outputs": [],
   "source": [
    "#plotting\n",
    "import matplotlib.pyplot as plt"
   ]
  },
  {
   "cell_type": "code",
   "execution_count": 89,
   "metadata": {
    "collapsed": false
   },
   "outputs": [
    {
     "data": {
      "text/plain": [
       "[]"
      ]
     },
     "execution_count": 89,
     "metadata": {},
     "output_type": "execute_result"
    },
    {
     "data": {
      "image/png": "[encoded data removed]",
      "text/plain": [
       "<matplotlib.figure.Figure at 0xe165588>"
      ]
     },
     "metadata": {},
     "output_type": "display_data"
    }
   ],
   "source": [
    "plt.scatter(data['ret_gld'],data['ret_gdx'])\n",
    "plt.xlim(-0.10,0.10)\n",
    "plt.xlabel('GDX returns')\n",
    "plt.ylabel('GLD returns')\n",
    "# Plot the regression line\n",
    "figure = plt.gcf()\n",
    "ax = plt.gca()\n",
    "ax.plot()"
   ]
  },
  {
   "cell_type": "code",
   "execution_count": null,
   "metadata": {
    "collapsed": true
   },
   "outputs": [],
   "source": []
  }
 ],
 "metadata": {
  "anaconda-cloud": {},
  "kernelspec": {
   "display_name": "Python [Root]",
   "language": "python",
   "name": "Python [Root]"
  },
  "language_info": {
   "codemirror_mode": {
    "name": "ipython",
    "version": 2
   },
   "file_extension": ".py",
   "mimetype": "text/x-python",
   "name": "python",
   "nbconvert_exporter": "python",
   "pygments_lexer": "ipython2",
   "version": "2.7.12"
  }
 },
 "nbformat": 4,
 "nbformat_minor": 0
}

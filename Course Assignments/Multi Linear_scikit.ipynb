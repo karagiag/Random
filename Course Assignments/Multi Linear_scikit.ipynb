{
 "cells": [
  {
   "cell_type": "code",
   "execution_count": 41,
   "metadata": {
    "collapsed": false
   },
   "outputs": [],
   "source": [
    "from sklearn import linear_model\n",
    "import numpy as np\n",
    "import pandas as pd"
   ]
  },
  {
   "cell_type": "code",
   "execution_count": 5,
   "metadata": {
    "collapsed": true
   },
   "outputs": [],
   "source": [
    "x=np.arange(12)"
   ]
  },
  {
   "cell_type": "code",
   "execution_count": 6,
   "metadata": {
    "collapsed": true
   },
   "outputs": [],
   "source": [
    "lags=3"
   ]
  },
  {
   "cell_type": "code",
   "execution_count": 9,
   "metadata": {
    "collapsed": true
   },
   "outputs": [],
   "source": [
    "m = np.zeros((lags+1,len(x)-lags))"
   ]
  },
  {
   "cell_type": "code",
   "execution_count": 10,
   "metadata": {
    "collapsed": false
   },
   "outputs": [],
   "source": [
    "for i in range(lags + 1):\n",
    "    if i == lags:\n",
    "        m[i] = x[i:]\n",
    "    else:\n",
    "        m[i] = x[i:i - lags]"
   ]
  },
  {
   "cell_type": "code",
   "execution_count": 11,
   "metadata": {
    "collapsed": true
   },
   "outputs": [],
   "source": [
    "lm= linear_model.LinearRegression()"
   ]
  },
  {
   "cell_type": "code",
   "execution_count": 12,
   "metadata": {
    "collapsed": false
   },
   "outputs": [
    {
     "data": {
      "text/plain": [
       "LinearRegression(copy_X=True, fit_intercept=True, n_jobs=1, normalize=False)"
      ]
     },
     "execution_count": 12,
     "metadata": {},
     "output_type": "execute_result"
    }
   ],
   "source": [
    "lm.fit(m[:lags].T,m[lags])"
   ]
  },
  {
   "cell_type": "code",
   "execution_count": 14,
   "metadata": {
    "collapsed": false
   },
   "outputs": [
    {
     "data": {
      "text/plain": [
       "array([ 0.33333333,  0.33333333,  0.33333333])"
      ]
     },
     "execution_count": 14,
     "metadata": {},
     "output_type": "execute_result"
    }
   ],
   "source": [
    "lm.coef_"
   ]
  },
  {
   "cell_type": "code",
   "execution_count": 15,
   "metadata": {
    "collapsed": false
   },
   "outputs": [
    {
     "data": {
      "text/plain": [
       "2.0000000000000018"
      ]
     },
     "execution_count": 15,
     "metadata": {},
     "output_type": "execute_result"
    }
   ],
   "source": [
    "lm.intercept_"
   ]
  },
  {
   "cell_type": "code",
   "execution_count": 16,
   "metadata": {
    "collapsed": false
   },
   "outputs": [
    {
     "data": {
      "text/plain": [
       "array([  3.,   4.,   5.,   6.,   7.,   8.,   9.,  10.,  11.])"
      ]
     },
     "execution_count": 16,
     "metadata": {},
     "output_type": "execute_result"
    }
   ],
   "source": [
    "lm.predict(m[:lags].T)"
   ]
  },
  {
   "cell_type": "code",
   "execution_count": 23,
   "metadata": {
    "collapsed": false
   },
   "outputs": [
    {
     "data": {
      "text/plain": [
       "1.0"
      ]
     },
     "execution_count": 23,
     "metadata": {},
     "output_type": "execute_result"
    }
   ],
   "source": [
    "lm.score(m[:lags].T,m[lags])"
   ]
  },
  {
   "cell_type": "code",
   "execution_count": null,
   "metadata": {
    "collapsed": true
   },
   "outputs": [],
   "source": [
    "# Logistic Function"
   ]
  },
  {
   "cell_type": "code",
   "execution_count": 24,
   "metadata": {
    "collapsed": true
   },
   "outputs": [],
   "source": [
    "hours = np.array([0.5, 0.75, 1., 1.25, 1.5, 1.75, 1.75, 2., 2.25, 2.5, 2.75, 3., 3.25, 3.5, 4., 4.25,4.5, 4.75, 5., 5.5])  "
   ]
  },
  {
   "cell_type": "code",
   "execution_count": 25,
   "metadata": {
    "collapsed": true
   },
   "outputs": [],
   "source": [
    "success = np.array([0, 0, 0, 0, 0, 0, 1, 0, 1, 0, 1, 0, 1,\n",
    "                            0, 1, 1, 1, 1, 1, 1])  "
   ]
  },
  {
   "cell_type": "code",
   "execution_count": 26,
   "metadata": {
    "collapsed": true
   },
   "outputs": [],
   "source": [
    "import matplotlib.pyplot as plt"
   ]
  },
  {
   "cell_type": "code",
   "execution_count": 28,
   "metadata": {
    "collapsed": true
   },
   "outputs": [],
   "source": [
    "plt.plot(hours,success,'ro')\n",
    "plt.ylim(-0.2,1.2)\n",
    "plt.show()"
   ]
  },
  {
   "cell_type": "code",
   "execution_count": 36,
   "metadata": {
    "collapsed": true
   },
   "outputs": [],
   "source": [
    "hrs = hours.reshape(1,-1).T  "
   ]
  },
  {
   "cell_type": "code",
   "execution_count": 37,
   "metadata": {
    "collapsed": true
   },
   "outputs": [],
   "source": [
    "lm = linear_model.LogisticRegression()  "
   ]
  },
  {
   "cell_type": "code",
   "execution_count": 38,
   "metadata": {
    "collapsed": false
   },
   "outputs": [
    {
     "data": {
      "text/plain": [
       "LogisticRegression(C=1.0, class_weight=None, dual=False, fit_intercept=True,\n",
       "          intercept_scaling=1, max_iter=100, multi_class='ovr', n_jobs=1,\n",
       "          penalty='l2', random_state=None, solver='liblinear', tol=0.0001,\n",
       "          verbose=0, warm_start=False)"
      ]
     },
     "execution_count": 38,
     "metadata": {},
     "output_type": "execute_result"
    }
   ],
   "source": [
    "lm.fit(hrs,success)"
   ]
  },
  {
   "cell_type": "code",
   "execution_count": 39,
   "metadata": {
    "collapsed": true
   },
   "outputs": [],
   "source": [
    "prediction = lm.predict(hrs)"
   ]
  },
  {
   "cell_type": "code",
   "execution_count": 40,
   "metadata": {
    "collapsed": true
   },
   "outputs": [],
   "source": [
    "plt.plot(hours,success,'ro')\n",
    "plt.plot(hours,prediction,'b')\n",
    "plt.ylim(-0.2,1.2)\n",
    "plt.show()"
   ]
  },
  {
   "cell_type": "code",
   "execution_count": null,
   "metadata": {
    "collapsed": true
   },
   "outputs": [],
   "source": [
    "#Using Logistic Regression to Predict Market Direction"
   ]
  },
  {
   "cell_type": "code",
   "execution_count": 50,
   "metadata": {
    "collapsed": true
   },
   "outputs": [],
   "source": [
    "data = pd.read_csv('C:/Users/karagiag/Downloads/aapl.csv',index_col=0,parse_dates=True)"
   ]
  },
  {
   "cell_type": "code",
   "execution_count": 55,
   "metadata": {
    "collapsed": false
   },
   "outputs": [
    {
     "data": {
      "text/html": [
       "<div>\n",
       "<table border=\"1\" class=\"dataframe\">\n",
       "  <thead>\n",
       "    <tr style=\"text-align: right;\">\n",
       "      <th></th>\n",
       "      <th>Open</th>\n",
       "      <th>High</th>\n",
       "      <th>Low</th>\n",
       "      <th>Close</th>\n",
       "      <th>Volume</th>\n",
       "    </tr>\n",
       "    <tr>\n",
       "      <th>﻿Date</th>\n",
       "      <th></th>\n",
       "      <th></th>\n",
       "      <th></th>\n",
       "      <th></th>\n",
       "      <th></th>\n",
       "    </tr>\n",
       "  </thead>\n",
       "  <tbody>\n",
       "    <tr>\n",
       "      <th>2016-12-30</th>\n",
       "      <td>116.65</td>\n",
       "      <td>117.20</td>\n",
       "      <td>115.43</td>\n",
       "      <td>115.82</td>\n",
       "      <td>30586265</td>\n",
       "    </tr>\n",
       "    <tr>\n",
       "      <th>2016-12-29</th>\n",
       "      <td>116.45</td>\n",
       "      <td>117.11</td>\n",
       "      <td>116.40</td>\n",
       "      <td>116.73</td>\n",
       "      <td>15039519</td>\n",
       "    </tr>\n",
       "    <tr>\n",
       "      <th>2016-12-28</th>\n",
       "      <td>117.52</td>\n",
       "      <td>118.02</td>\n",
       "      <td>116.20</td>\n",
       "      <td>116.76</td>\n",
       "      <td>20905892</td>\n",
       "    </tr>\n",
       "    <tr>\n",
       "      <th>2016-12-27</th>\n",
       "      <td>116.52</td>\n",
       "      <td>117.80</td>\n",
       "      <td>116.49</td>\n",
       "      <td>117.26</td>\n",
       "      <td>18296855</td>\n",
       "    </tr>\n",
       "    <tr>\n",
       "      <th>2016-12-23</th>\n",
       "      <td>115.59</td>\n",
       "      <td>116.52</td>\n",
       "      <td>115.59</td>\n",
       "      <td>116.52</td>\n",
       "      <td>14249484</td>\n",
       "    </tr>\n",
       "    <tr>\n",
       "      <th>2016-12-22</th>\n",
       "      <td>116.35</td>\n",
       "      <td>116.51</td>\n",
       "      <td>115.64</td>\n",
       "      <td>116.29</td>\n",
       "      <td>26085854</td>\n",
       "    </tr>\n",
       "    <tr>\n",
       "      <th>2016-12-21</th>\n",
       "      <td>116.80</td>\n",
       "      <td>117.40</td>\n",
       "      <td>116.78</td>\n",
       "      <td>117.06</td>\n",
       "      <td>23783165</td>\n",
       "    </tr>\n",
       "    <tr>\n",
       "      <th>2016-12-20</th>\n",
       "      <td>116.74</td>\n",
       "      <td>117.50</td>\n",
       "      <td>116.68</td>\n",
       "      <td>116.95</td>\n",
       "      <td>21424965</td>\n",
       "    </tr>\n",
       "    <tr>\n",
       "      <th>2016-12-19</th>\n",
       "      <td>115.80</td>\n",
       "      <td>117.38</td>\n",
       "      <td>115.75</td>\n",
       "      <td>116.64</td>\n",
       "      <td>27779423</td>\n",
       "    </tr>\n",
       "    <tr>\n",
       "      <th>2016-12-16</th>\n",
       "      <td>116.47</td>\n",
       "      <td>116.50</td>\n",
       "      <td>115.64</td>\n",
       "      <td>115.97</td>\n",
       "      <td>44351134</td>\n",
       "    </tr>\n",
       "    <tr>\n",
       "      <th>2016-12-15</th>\n",
       "      <td>115.38</td>\n",
       "      <td>116.73</td>\n",
       "      <td>115.23</td>\n",
       "      <td>115.82</td>\n",
       "      <td>46524544</td>\n",
       "    </tr>\n",
       "    <tr>\n",
       "      <th>2016-12-14</th>\n",
       "      <td>115.04</td>\n",
       "      <td>116.20</td>\n",
       "      <td>114.98</td>\n",
       "      <td>115.19</td>\n",
       "      <td>34031834</td>\n",
       "    </tr>\n",
       "    <tr>\n",
       "      <th>2016-12-13</th>\n",
       "      <td>113.84</td>\n",
       "      <td>115.92</td>\n",
       "      <td>113.75</td>\n",
       "      <td>115.19</td>\n",
       "      <td>43733811</td>\n",
       "    </tr>\n",
       "    <tr>\n",
       "      <th>2016-12-12</th>\n",
       "      <td>113.29</td>\n",
       "      <td>115.00</td>\n",
       "      <td>112.49</td>\n",
       "      <td>113.30</td>\n",
       "      <td>26374377</td>\n",
       "    </tr>\n",
       "    <tr>\n",
       "      <th>2016-12-09</th>\n",
       "      <td>112.31</td>\n",
       "      <td>114.70</td>\n",
       "      <td>112.31</td>\n",
       "      <td>113.95</td>\n",
       "      <td>34402627</td>\n",
       "    </tr>\n",
       "    <tr>\n",
       "      <th>2016-12-08</th>\n",
       "      <td>110.86</td>\n",
       "      <td>112.43</td>\n",
       "      <td>110.60</td>\n",
       "      <td>112.12</td>\n",
       "      <td>27068316</td>\n",
       "    </tr>\n",
       "    <tr>\n",
       "      <th>2016-12-07</th>\n",
       "      <td>109.26</td>\n",
       "      <td>111.19</td>\n",
       "      <td>109.16</td>\n",
       "      <td>111.03</td>\n",
       "      <td>29998719</td>\n",
       "    </tr>\n",
       "    <tr>\n",
       "      <th>2016-12-06</th>\n",
       "      <td>109.50</td>\n",
       "      <td>110.36</td>\n",
       "      <td>109.19</td>\n",
       "      <td>109.95</td>\n",
       "      <td>26195462</td>\n",
       "    </tr>\n",
       "    <tr>\n",
       "      <th>2016-12-05</th>\n",
       "      <td>110.00</td>\n",
       "      <td>110.03</td>\n",
       "      <td>108.25</td>\n",
       "      <td>109.11</td>\n",
       "      <td>34324540</td>\n",
       "    </tr>\n",
       "    <tr>\n",
       "      <th>2016-12-02</th>\n",
       "      <td>109.17</td>\n",
       "      <td>110.09</td>\n",
       "      <td>108.85</td>\n",
       "      <td>109.90</td>\n",
       "      <td>26527997</td>\n",
       "    </tr>\n",
       "    <tr>\n",
       "      <th>2016-12-01</th>\n",
       "      <td>110.36</td>\n",
       "      <td>110.94</td>\n",
       "      <td>109.03</td>\n",
       "      <td>109.49</td>\n",
       "      <td>37086862</td>\n",
       "    </tr>\n",
       "    <tr>\n",
       "      <th>2016-11-30</th>\n",
       "      <td>111.60</td>\n",
       "      <td>112.20</td>\n",
       "      <td>110.27</td>\n",
       "      <td>110.52</td>\n",
       "      <td>36162258</td>\n",
       "    </tr>\n",
       "    <tr>\n",
       "      <th>2016-11-29</th>\n",
       "      <td>110.78</td>\n",
       "      <td>112.03</td>\n",
       "      <td>110.07</td>\n",
       "      <td>111.46</td>\n",
       "      <td>28528750</td>\n",
       "    </tr>\n",
       "    <tr>\n",
       "      <th>2016-11-28</th>\n",
       "      <td>111.43</td>\n",
       "      <td>112.46</td>\n",
       "      <td>111.39</td>\n",
       "      <td>111.57</td>\n",
       "      <td>27193983</td>\n",
       "    </tr>\n",
       "    <tr>\n",
       "      <th>2016-11-25</th>\n",
       "      <td>111.47</td>\n",
       "      <td>111.87</td>\n",
       "      <td>110.95</td>\n",
       "      <td>111.79</td>\n",
       "      <td>11475922</td>\n",
       "    </tr>\n",
       "    <tr>\n",
       "      <th>2016-11-23</th>\n",
       "      <td>111.36</td>\n",
       "      <td>111.51</td>\n",
       "      <td>110.33</td>\n",
       "      <td>111.23</td>\n",
       "      <td>27426394</td>\n",
       "    </tr>\n",
       "    <tr>\n",
       "      <th>2016-11-22</th>\n",
       "      <td>111.95</td>\n",
       "      <td>112.42</td>\n",
       "      <td>111.40</td>\n",
       "      <td>111.80</td>\n",
       "      <td>25965534</td>\n",
       "    </tr>\n",
       "    <tr>\n",
       "      <th>2016-11-21</th>\n",
       "      <td>110.12</td>\n",
       "      <td>111.99</td>\n",
       "      <td>110.01</td>\n",
       "      <td>111.73</td>\n",
       "      <td>29264571</td>\n",
       "    </tr>\n",
       "    <tr>\n",
       "      <th>2016-11-18</th>\n",
       "      <td>109.72</td>\n",
       "      <td>110.54</td>\n",
       "      <td>109.66</td>\n",
       "      <td>110.06</td>\n",
       "      <td>28428917</td>\n",
       "    </tr>\n",
       "    <tr>\n",
       "      <th>2016-11-17</th>\n",
       "      <td>109.81</td>\n",
       "      <td>110.35</td>\n",
       "      <td>108.83</td>\n",
       "      <td>109.95</td>\n",
       "      <td>26964598</td>\n",
       "    </tr>\n",
       "    <tr>\n",
       "      <th>...</th>\n",
       "      <td>...</td>\n",
       "      <td>...</td>\n",
       "      <td>...</td>\n",
       "      <td>...</td>\n",
       "      <td>...</td>\n",
       "    </tr>\n",
       "    <tr>\n",
       "      <th>2011-02-14</th>\n",
       "      <td>50.97</td>\n",
       "      <td>51.35</td>\n",
       "      <td>50.96</td>\n",
       "      <td>51.31</td>\n",
       "      <td>77603491</td>\n",
       "    </tr>\n",
       "    <tr>\n",
       "      <th>2011-02-11</th>\n",
       "      <td>50.68</td>\n",
       "      <td>51.11</td>\n",
       "      <td>50.51</td>\n",
       "      <td>50.98</td>\n",
       "      <td>91892948</td>\n",
       "    </tr>\n",
       "    <tr>\n",
       "      <th>2011-02-10</th>\n",
       "      <td>51.06</td>\n",
       "      <td>51.43</td>\n",
       "      <td>49.71</td>\n",
       "      <td>50.65</td>\n",
       "      <td>232137360</td>\n",
       "    </tr>\n",
       "    <tr>\n",
       "      <th>2011-02-09</th>\n",
       "      <td>50.74</td>\n",
       "      <td>51.29</td>\n",
       "      <td>50.70</td>\n",
       "      <td>51.17</td>\n",
       "      <td>120686090</td>\n",
       "    </tr>\n",
       "    <tr>\n",
       "      <th>2011-02-08</th>\n",
       "      <td>50.53</td>\n",
       "      <td>50.79</td>\n",
       "      <td>50.31</td>\n",
       "      <td>50.74</td>\n",
       "      <td>95259906</td>\n",
       "    </tr>\n",
       "    <tr>\n",
       "      <th>2011-02-07</th>\n",
       "      <td>49.70</td>\n",
       "      <td>50.46</td>\n",
       "      <td>49.66</td>\n",
       "      <td>50.27</td>\n",
       "      <td>121254910</td>\n",
       "    </tr>\n",
       "    <tr>\n",
       "      <th>2011-02-04</th>\n",
       "      <td>49.09</td>\n",
       "      <td>49.53</td>\n",
       "      <td>49.07</td>\n",
       "      <td>49.50</td>\n",
       "      <td>80459575</td>\n",
       "    </tr>\n",
       "    <tr>\n",
       "      <th>2011-02-03</th>\n",
       "      <td>49.11</td>\n",
       "      <td>49.18</td>\n",
       "      <td>48.36</td>\n",
       "      <td>49.06</td>\n",
       "      <td>98449148</td>\n",
       "    </tr>\n",
       "    <tr>\n",
       "      <th>2011-02-02</th>\n",
       "      <td>49.21</td>\n",
       "      <td>49.32</td>\n",
       "      <td>49.08</td>\n",
       "      <td>49.19</td>\n",
       "      <td>64738807</td>\n",
       "    </tr>\n",
       "    <tr>\n",
       "      <th>2011-02-01</th>\n",
       "      <td>48.76</td>\n",
       "      <td>49.38</td>\n",
       "      <td>48.71</td>\n",
       "      <td>49.29</td>\n",
       "      <td>106657943</td>\n",
       "    </tr>\n",
       "    <tr>\n",
       "      <th>2011-01-31</th>\n",
       "      <td>47.97</td>\n",
       "      <td>48.58</td>\n",
       "      <td>47.76</td>\n",
       "      <td>48.47</td>\n",
       "      <td>94311602</td>\n",
       "    </tr>\n",
       "    <tr>\n",
       "      <th>2011-01-28</th>\n",
       "      <td>49.17</td>\n",
       "      <td>49.20</td>\n",
       "      <td>47.65</td>\n",
       "      <td>48.01</td>\n",
       "      <td>148014146</td>\n",
       "    </tr>\n",
       "    <tr>\n",
       "      <th>2011-01-27</th>\n",
       "      <td>49.11</td>\n",
       "      <td>49.24</td>\n",
       "      <td>48.98</td>\n",
       "      <td>49.03</td>\n",
       "      <td>71255961</td>\n",
       "    </tr>\n",
       "    <tr>\n",
       "      <th>2011-01-26</th>\n",
       "      <td>48.99</td>\n",
       "      <td>49.37</td>\n",
       "      <td>48.79</td>\n",
       "      <td>49.12</td>\n",
       "      <td>126716779</td>\n",
       "    </tr>\n",
       "    <tr>\n",
       "      <th>2011-01-25</th>\n",
       "      <td>48.05</td>\n",
       "      <td>48.78</td>\n",
       "      <td>47.80</td>\n",
       "      <td>48.77</td>\n",
       "      <td>136716650</td>\n",
       "    </tr>\n",
       "    <tr>\n",
       "      <th>2011-01-24</th>\n",
       "      <td>46.70</td>\n",
       "      <td>48.21</td>\n",
       "      <td>46.67</td>\n",
       "      <td>48.21</td>\n",
       "      <td>143670548</td>\n",
       "    </tr>\n",
       "    <tr>\n",
       "      <th>2011-01-21</th>\n",
       "      <td>47.68</td>\n",
       "      <td>47.84</td>\n",
       "      <td>46.66</td>\n",
       "      <td>46.67</td>\n",
       "      <td>188599712</td>\n",
       "    </tr>\n",
       "    <tr>\n",
       "      <th>2011-01-20</th>\n",
       "      <td>48.06</td>\n",
       "      <td>48.33</td>\n",
       "      <td>47.16</td>\n",
       "      <td>47.53</td>\n",
       "      <td>191197293</td>\n",
       "    </tr>\n",
       "    <tr>\n",
       "      <th>2011-01-19</th>\n",
       "      <td>49.76</td>\n",
       "      <td>49.80</td>\n",
       "      <td>48.13</td>\n",
       "      <td>48.41</td>\n",
       "      <td>283902199</td>\n",
       "    </tr>\n",
       "    <tr>\n",
       "      <th>2011-01-18</th>\n",
       "      <td>47.07</td>\n",
       "      <td>49.25</td>\n",
       "      <td>46.57</td>\n",
       "      <td>48.66</td>\n",
       "      <td>470246700</td>\n",
       "    </tr>\n",
       "    <tr>\n",
       "      <th>2011-01-14</th>\n",
       "      <td>49.41</td>\n",
       "      <td>49.78</td>\n",
       "      <td>49.21</td>\n",
       "      <td>49.78</td>\n",
       "      <td>77209748</td>\n",
       "    </tr>\n",
       "    <tr>\n",
       "      <th>2011-01-13</th>\n",
       "      <td>49.31</td>\n",
       "      <td>49.52</td>\n",
       "      <td>49.12</td>\n",
       "      <td>49.38</td>\n",
       "      <td>74536182</td>\n",
       "    </tr>\n",
       "    <tr>\n",
       "      <th>2011-01-12</th>\n",
       "      <td>49.04</td>\n",
       "      <td>49.20</td>\n",
       "      <td>48.86</td>\n",
       "      <td>49.20</td>\n",
       "      <td>75644310</td>\n",
       "    </tr>\n",
       "    <tr>\n",
       "      <th>2011-01-11</th>\n",
       "      <td>49.27</td>\n",
       "      <td>49.28</td>\n",
       "      <td>48.50</td>\n",
       "      <td>48.81</td>\n",
       "      <td>111019993</td>\n",
       "    </tr>\n",
       "    <tr>\n",
       "      <th>2011-01-10</th>\n",
       "      <td>48.40</td>\n",
       "      <td>49.03</td>\n",
       "      <td>48.17</td>\n",
       "      <td>48.92</td>\n",
       "      <td>112139482</td>\n",
       "    </tr>\n",
       "    <tr>\n",
       "      <th>2011-01-07</th>\n",
       "      <td>47.71</td>\n",
       "      <td>48.05</td>\n",
       "      <td>47.41</td>\n",
       "      <td>48.02</td>\n",
       "      <td>77982212</td>\n",
       "    </tr>\n",
       "    <tr>\n",
       "      <th>2011-01-06</th>\n",
       "      <td>47.82</td>\n",
       "      <td>47.89</td>\n",
       "      <td>47.56</td>\n",
       "      <td>47.68</td>\n",
       "      <td>75106626</td>\n",
       "    </tr>\n",
       "    <tr>\n",
       "      <th>2011-01-05</th>\n",
       "      <td>47.08</td>\n",
       "      <td>47.76</td>\n",
       "      <td>47.07</td>\n",
       "      <td>47.71</td>\n",
       "      <td>63879193</td>\n",
       "    </tr>\n",
       "    <tr>\n",
       "      <th>2011-01-04</th>\n",
       "      <td>47.49</td>\n",
       "      <td>47.50</td>\n",
       "      <td>46.88</td>\n",
       "      <td>47.33</td>\n",
       "      <td>77337001</td>\n",
       "    </tr>\n",
       "    <tr>\n",
       "      <th>2011-01-03</th>\n",
       "      <td>46.52</td>\n",
       "      <td>47.18</td>\n",
       "      <td>46.41</td>\n",
       "      <td>47.08</td>\n",
       "      <td>111280407</td>\n",
       "    </tr>\n",
       "  </tbody>\n",
       "</table>\n",
       "<p>1510 rows × 5 columns</p>\n",
       "</div>"
      ],
      "text/plain": [
       "              Open    High     Low   Close     Volume\n",
       "﻿Date                                                \n",
       "2016-12-30  116.65  117.20  115.43  115.82   30586265\n",
       "2016-12-29  116.45  117.11  116.40  116.73   15039519\n",
       "2016-12-28  117.52  118.02  116.20  116.76   20905892\n",
       "2016-12-27  116.52  117.80  116.49  117.26   18296855\n",
       "2016-12-23  115.59  116.52  115.59  116.52   14249484\n",
       "2016-12-22  116.35  116.51  115.64  116.29   26085854\n",
       "2016-12-21  116.80  117.40  116.78  117.06   23783165\n",
       "2016-12-20  116.74  117.50  116.68  116.95   21424965\n",
       "2016-12-19  115.80  117.38  115.75  116.64   27779423\n",
       "2016-12-16  116.47  116.50  115.64  115.97   44351134\n",
       "2016-12-15  115.38  116.73  115.23  115.82   46524544\n",
       "2016-12-14  115.04  116.20  114.98  115.19   34031834\n",
       "2016-12-13  113.84  115.92  113.75  115.19   43733811\n",
       "2016-12-12  113.29  115.00  112.49  113.30   26374377\n",
       "2016-12-09  112.31  114.70  112.31  113.95   34402627\n",
       "2016-12-08  110.86  112.43  110.60  112.12   27068316\n",
       "2016-12-07  109.26  111.19  109.16  111.03   29998719\n",
       "2016-12-06  109.50  110.36  109.19  109.95   26195462\n",
       "2016-12-05  110.00  110.03  108.25  109.11   34324540\n",
       "2016-12-02  109.17  110.09  108.85  109.90   26527997\n",
       "2016-12-01  110.36  110.94  109.03  109.49   37086862\n",
       "2016-11-30  111.60  112.20  110.27  110.52   36162258\n",
       "2016-11-29  110.78  112.03  110.07  111.46   28528750\n",
       "2016-11-28  111.43  112.46  111.39  111.57   27193983\n",
       "2016-11-25  111.47  111.87  110.95  111.79   11475922\n",
       "2016-11-23  111.36  111.51  110.33  111.23   27426394\n",
       "2016-11-22  111.95  112.42  111.40  111.80   25965534\n",
       "2016-11-21  110.12  111.99  110.01  111.73   29264571\n",
       "2016-11-18  109.72  110.54  109.66  110.06   28428917\n",
       "2016-11-17  109.81  110.35  108.83  109.95   26964598\n",
       "...            ...     ...     ...     ...        ...\n",
       "2011-02-14   50.97   51.35   50.96   51.31   77603491\n",
       "2011-02-11   50.68   51.11   50.51   50.98   91892948\n",
       "2011-02-10   51.06   51.43   49.71   50.65  232137360\n",
       "2011-02-09   50.74   51.29   50.70   51.17  120686090\n",
       "2011-02-08   50.53   50.79   50.31   50.74   95259906\n",
       "2011-02-07   49.70   50.46   49.66   50.27  121254910\n",
       "2011-02-04   49.09   49.53   49.07   49.50   80459575\n",
       "2011-02-03   49.11   49.18   48.36   49.06   98449148\n",
       "2011-02-02   49.21   49.32   49.08   49.19   64738807\n",
       "2011-02-01   48.76   49.38   48.71   49.29  106657943\n",
       "2011-01-31   47.97   48.58   47.76   48.47   94311602\n",
       "2011-01-28   49.17   49.20   47.65   48.01  148014146\n",
       "2011-01-27   49.11   49.24   48.98   49.03   71255961\n",
       "2011-01-26   48.99   49.37   48.79   49.12  126716779\n",
       "2011-01-25   48.05   48.78   47.80   48.77  136716650\n",
       "2011-01-24   46.70   48.21   46.67   48.21  143670548\n",
       "2011-01-21   47.68   47.84   46.66   46.67  188599712\n",
       "2011-01-20   48.06   48.33   47.16   47.53  191197293\n",
       "2011-01-19   49.76   49.80   48.13   48.41  283902199\n",
       "2011-01-18   47.07   49.25   46.57   48.66  470246700\n",
       "2011-01-14   49.41   49.78   49.21   49.78   77209748\n",
       "2011-01-13   49.31   49.52   49.12   49.38   74536182\n",
       "2011-01-12   49.04   49.20   48.86   49.20   75644310\n",
       "2011-01-11   49.27   49.28   48.50   48.81  111019993\n",
       "2011-01-10   48.40   49.03   48.17   48.92  112139482\n",
       "2011-01-07   47.71   48.05   47.41   48.02   77982212\n",
       "2011-01-06   47.82   47.89   47.56   47.68   75106626\n",
       "2011-01-05   47.08   47.76   47.07   47.71   63879193\n",
       "2011-01-04   47.49   47.50   46.88   47.33   77337001\n",
       "2011-01-03   46.52   47.18   46.41   47.08  111280407\n",
       "\n",
       "[1510 rows x 5 columns]"
      ]
     },
     "execution_count": 55,
     "metadata": {},
     "output_type": "execute_result"
    }
   ],
   "source": [
    "data"
   ]
  },
  {
   "cell_type": "code",
   "execution_count": 56,
   "metadata": {
    "collapsed": true
   },
   "outputs": [],
   "source": [
    "data.rename(columns={'Close':'price'},inplace=True)"
   ]
  },
  {
   "cell_type": "code",
   "execution_count": 57,
   "metadata": {
    "collapsed": true
   },
   "outputs": [],
   "source": [
    "data['returns']= np.log(data['price']/data['price'].shift(1))"
   ]
  },
  {
   "cell_type": "code",
   "execution_count": 58,
   "metadata": {
    "collapsed": true
   },
   "outputs": [],
   "source": [
    "data.dropna(inplace=True)"
   ]
  },
  {
   "cell_type": "code",
   "execution_count": 59,
   "metadata": {
    "collapsed": true
   },
   "outputs": [],
   "source": [
    "lags=3"
   ]
  },
  {
   "cell_type": "code",
   "execution_count": 62,
   "metadata": {
    "collapsed": false
   },
   "outputs": [],
   "source": [
    "m = np.zeros((lags + 1, len(data) - lags))"
   ]
  },
  {
   "cell_type": "code",
   "execution_count": 63,
   "metadata": {
    "collapsed": true
   },
   "outputs": [],
   "source": [
    "for i in range (lags+1):\n",
    "    if i==lags:\n",
    "        m[i]= data.returns.values[i:]\n",
    "    else:\n",
    "        m[i]= data.returns.values[i:i - lags]"
   ]
  },
  {
   "cell_type": "code",
   "execution_count": 66,
   "metadata": {
    "collapsed": false
   },
   "outputs": [],
   "source": [
    "from sklearn import linear_model"
   ]
  },
  {
   "cell_type": "code",
   "execution_count": 67,
   "metadata": {
    "collapsed": true
   },
   "outputs": [],
   "source": [
    "lm = linear_model.LogisticRegression(C=1e3)"
   ]
  },
  {
   "cell_type": "code",
   "execution_count": null,
   "metadata": {
    "collapsed": true
   },
   "outputs": [],
   "source": []
  },
  {
   "cell_type": "code",
   "execution_count": null,
   "metadata": {
    "collapsed": true
   },
   "outputs": [],
   "source": []
  },
  {
   "cell_type": "code",
   "execution_count": null,
   "metadata": {
    "collapsed": true
   },
   "outputs": [],
   "source": []
  }
 ],
 "metadata": {
  "kernelspec": {
   "display_name": "Python [Root]",
   "language": "python",
   "name": "Python [Root]"
  },
  "language_info": {
   "codemirror_mode": {
    "name": "ipython",
    "version": 2
   },
   "file_extension": ".py",
   "mimetype": "text/x-python",
   "name": "python",
   "nbconvert_exporter": "python",
   "pygments_lexer": "ipython2",
   "version": "2.7.12"
  }
 },
 "nbformat": 4,
 "nbformat_minor": 0
}

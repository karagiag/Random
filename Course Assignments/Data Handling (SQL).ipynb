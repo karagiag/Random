{
 "cells": [
  {
   "cell_type": "code",
   "execution_count": 8,
   "metadata": {
    "collapsed": false
   },
   "outputs": [
    {
     "name": "stdout",
     "output_type": "stream",
     "text": [
      "Date,Open,High,Low,Close,Adj Close,Volume\n",
      "\n",
      "2017-05-08,149.029999,153.699997,149.029999,153.009995,153.009995,48752400\n",
      "\n",
      "2017-05-09,153.869995,154.880005,153.449997,153.990005,153.990005,39130400\n",
      "\n",
      "2017-05-10,153.630005,153.940002,152.110001,153.259995,153.259995,25805700\n",
      "\n",
      "2017-05-11,152.449997,154.070007,152.309998,153.949997,153.949997,27255100\n",
      "\n"
     ]
    }
   ],
   "source": [
    "with open('C:/Users/karagiag/aapl.csv','r') as f:\n",
    "    for _ in range(5):\n",
    "        print(f.readline())"
   ]
  },
  {
   "cell_type": "code",
   "execution_count": 9,
   "metadata": {
    "collapsed": true
   },
   "outputs": [],
   "source": [
    "import csv"
   ]
  },
  {
   "cell_type": "code",
   "execution_count": 32,
   "metadata": {
    "collapsed": true
   },
   "outputs": [],
   "source": [
    "csv_reader = csv.DictReader(open('C:/Users/karagiag/aapl.csv','r'))"
   ]
  },
  {
   "cell_type": "code",
   "execution_count": 33,
   "metadata": {
    "collapsed": false
   },
   "outputs": [
    {
     "name": "stdout",
     "output_type": "stream",
     "text": [
      "{'Volume': '48752400', 'Adj Close': '153.009995', 'High': '153.699997', 'Low': '149.029999', 'Date': '2017-05-08', 'Close': '153.009995', 'Open': '149.029999'}\n",
      "{'Volume': '39130400', 'Adj Close': '153.990005', 'High': '154.880005', 'Low': '153.449997', 'Date': '2017-05-09', 'Close': '153.990005', 'Open': '153.869995'}\n",
      "{'Volume': '25805700', 'Adj Close': '153.259995', 'High': '153.940002', 'Low': '152.110001', 'Date': '2017-05-10', 'Close': '153.259995', 'Open': '153.630005'}\n",
      "{'Volume': '27255100', 'Adj Close': '153.949997', 'High': '154.070007', 'Low': '152.309998', 'Date': '2017-05-11', 'Close': '153.949997', 'Open': '152.449997'}\n",
      "{'Volume': '32527000', 'Adj Close': '156.100006', 'High': '156.419998', 'Low': '154.669998', 'Date': '2017-05-12', 'Close': '156.100006', 'Open': '154.699997'}\n",
      "{'Volume': '26009700', 'Adj Close': '155.699997', 'High': '156.649994', 'Low': '155.050003', 'Date': '2017-05-15', 'Close': '155.699997', 'Open': '156.009995'}\n",
      "{'Volume': '20048500', 'Adj Close': '155.470001', 'High': '156.059998', 'Low': '154.720001', 'Date': '2017-05-16', 'Close': '155.470001', 'Open': '155.940002'}\n",
      "{'Volume': '50767700', 'Adj Close': '150.250000', 'High': '154.570007', 'Low': '149.710007', 'Date': '2017-05-17', 'Close': '150.250000', 'Open': '153.600006'}\n",
      "{'Volume': '33568200', 'Adj Close': '152.539993', 'High': '153.339996', 'Low': '151.130005', 'Date': '2017-05-18', 'Close': '152.539993', 'Open': '151.270004'}\n",
      "{'Volume': '26960800', 'Adj Close': '153.059998', 'High': '153.979996', 'Low': '152.630005', 'Date': '2017-05-19', 'Close': '153.059998', 'Open': '153.380005'}\n",
      "{'Volume': '22966400', 'Adj Close': '153.990005', 'High': '154.580002', 'Low': '152.910004', 'Date': '2017-05-22', 'Close': '153.990005', 'Open': '154.000000'}\n",
      "{'Volume': '19918900', 'Adj Close': '153.800003', 'High': '154.899994', 'Low': '153.309998', 'Date': '2017-05-23', 'Close': '153.800003', 'Open': '154.899994'}\n",
      "{'Volume': '19178000', 'Adj Close': '153.339996', 'High': '154.169998', 'Low': '152.669998', 'Date': '2017-05-24', 'Close': '153.339996', 'Open': '153.839996'}\n",
      "{'Volume': '19235600', 'Adj Close': '153.869995', 'High': '154.350006', 'Low': '153.029999', 'Date': '2017-05-25', 'Close': '153.869995', 'Open': '153.729996'}\n",
      "{'Volume': '21927600', 'Adj Close': '153.610001', 'High': '154.240005', 'Low': '153.309998', 'Date': '2017-05-26', 'Close': '153.610001', 'Open': '154.000000'}\n",
      "{'Volume': '20126900', 'Adj Close': '153.669998', 'High': '154.429993', 'Low': '153.330002', 'Date': '2017-05-30', 'Close': '153.669998', 'Open': '153.419998'}\n",
      "{'Volume': '24451200', 'Adj Close': '152.759995', 'High': '154.169998', 'Low': '152.380005', 'Date': '2017-05-31', 'Close': '152.759995', 'Open': '153.970001'}\n",
      "{'Volume': '16404100', 'Adj Close': '153.179993', 'High': '153.330002', 'Low': '152.220001', 'Date': '2017-06-01', 'Close': '153.179993', 'Open': '153.169998'}\n",
      "{'Volume': '27661800', 'Adj Close': '155.449997', 'High': '155.449997', 'Low': '152.889999', 'Date': '2017-06-02', 'Close': '155.449997', 'Open': '153.580002'}\n",
      "{'Volume': '13434674', 'Adj Close': '153.740005', 'High': '154.449997', 'Low': '153.460007', 'Date': '2017-06-05', 'Close': '153.740005', 'Open': '154.410004'}\n"
     ]
    }
   ],
   "source": [
    "for row in csv_reader:\n",
    "    print row"
   ]
  },
  {
   "cell_type": "code",
   "execution_count": 34,
   "metadata": {
    "collapsed": true
   },
   "outputs": [],
   "source": [
    "import pandas as pd"
   ]
  },
  {
   "cell_type": "code",
   "execution_count": 35,
   "metadata": {
    "collapsed": true
   },
   "outputs": [],
   "source": [
    "data = pd.read_csv('C:/Users/karagiag/aapl.csv', index_col=0, parse_dates=True)"
   ]
  },
  {
   "cell_type": "code",
   "execution_count": 36,
   "metadata": {
    "collapsed": false
   },
   "outputs": [
    {
     "data": {
      "text/html": [
       "<div>\n",
       "<table border=\"1\" class=\"dataframe\">\n",
       "  <thead>\n",
       "    <tr style=\"text-align: right;\">\n",
       "      <th></th>\n",
       "      <th>Open</th>\n",
       "      <th>High</th>\n",
       "      <th>Low</th>\n",
       "      <th>Close</th>\n",
       "      <th>Adj Close</th>\n",
       "      <th>Volume</th>\n",
       "    </tr>\n",
       "    <tr>\n",
       "      <th>Date</th>\n",
       "      <th></th>\n",
       "      <th></th>\n",
       "      <th></th>\n",
       "      <th></th>\n",
       "      <th></th>\n",
       "      <th></th>\n",
       "    </tr>\n",
       "  </thead>\n",
       "  <tbody>\n",
       "    <tr>\n",
       "      <th>2017-05-08</th>\n",
       "      <td>149.029999</td>\n",
       "      <td>153.699997</td>\n",
       "      <td>149.029999</td>\n",
       "      <td>153.009995</td>\n",
       "      <td>153.009995</td>\n",
       "      <td>48752400</td>\n",
       "    </tr>\n",
       "    <tr>\n",
       "      <th>2017-05-09</th>\n",
       "      <td>153.869995</td>\n",
       "      <td>154.880005</td>\n",
       "      <td>153.449997</td>\n",
       "      <td>153.990005</td>\n",
       "      <td>153.990005</td>\n",
       "      <td>39130400</td>\n",
       "    </tr>\n",
       "    <tr>\n",
       "      <th>2017-05-10</th>\n",
       "      <td>153.630005</td>\n",
       "      <td>153.940002</td>\n",
       "      <td>152.110001</td>\n",
       "      <td>153.259995</td>\n",
       "      <td>153.259995</td>\n",
       "      <td>25805700</td>\n",
       "    </tr>\n",
       "    <tr>\n",
       "      <th>2017-05-11</th>\n",
       "      <td>152.449997</td>\n",
       "      <td>154.070007</td>\n",
       "      <td>152.309998</td>\n",
       "      <td>153.949997</td>\n",
       "      <td>153.949997</td>\n",
       "      <td>27255100</td>\n",
       "    </tr>\n",
       "    <tr>\n",
       "      <th>2017-05-12</th>\n",
       "      <td>154.699997</td>\n",
       "      <td>156.419998</td>\n",
       "      <td>154.669998</td>\n",
       "      <td>156.100006</td>\n",
       "      <td>156.100006</td>\n",
       "      <td>32527000</td>\n",
       "    </tr>\n",
       "    <tr>\n",
       "      <th>2017-05-15</th>\n",
       "      <td>156.009995</td>\n",
       "      <td>156.649994</td>\n",
       "      <td>155.050003</td>\n",
       "      <td>155.699997</td>\n",
       "      <td>155.699997</td>\n",
       "      <td>26009700</td>\n",
       "    </tr>\n",
       "    <tr>\n",
       "      <th>2017-05-16</th>\n",
       "      <td>155.940002</td>\n",
       "      <td>156.059998</td>\n",
       "      <td>154.720001</td>\n",
       "      <td>155.470001</td>\n",
       "      <td>155.470001</td>\n",
       "      <td>20048500</td>\n",
       "    </tr>\n",
       "    <tr>\n",
       "      <th>2017-05-17</th>\n",
       "      <td>153.600006</td>\n",
       "      <td>154.570007</td>\n",
       "      <td>149.710007</td>\n",
       "      <td>150.250000</td>\n",
       "      <td>150.250000</td>\n",
       "      <td>50767700</td>\n",
       "    </tr>\n",
       "    <tr>\n",
       "      <th>2017-05-18</th>\n",
       "      <td>151.270004</td>\n",
       "      <td>153.339996</td>\n",
       "      <td>151.130005</td>\n",
       "      <td>152.539993</td>\n",
       "      <td>152.539993</td>\n",
       "      <td>33568200</td>\n",
       "    </tr>\n",
       "    <tr>\n",
       "      <th>2017-05-19</th>\n",
       "      <td>153.380005</td>\n",
       "      <td>153.979996</td>\n",
       "      <td>152.630005</td>\n",
       "      <td>153.059998</td>\n",
       "      <td>153.059998</td>\n",
       "      <td>26960800</td>\n",
       "    </tr>\n",
       "    <tr>\n",
       "      <th>2017-05-22</th>\n",
       "      <td>154.000000</td>\n",
       "      <td>154.580002</td>\n",
       "      <td>152.910004</td>\n",
       "      <td>153.990005</td>\n",
       "      <td>153.990005</td>\n",
       "      <td>22966400</td>\n",
       "    </tr>\n",
       "    <tr>\n",
       "      <th>2017-05-23</th>\n",
       "      <td>154.899994</td>\n",
       "      <td>154.899994</td>\n",
       "      <td>153.309998</td>\n",
       "      <td>153.800003</td>\n",
       "      <td>153.800003</td>\n",
       "      <td>19918900</td>\n",
       "    </tr>\n",
       "    <tr>\n",
       "      <th>2017-05-24</th>\n",
       "      <td>153.839996</td>\n",
       "      <td>154.169998</td>\n",
       "      <td>152.669998</td>\n",
       "      <td>153.339996</td>\n",
       "      <td>153.339996</td>\n",
       "      <td>19178000</td>\n",
       "    </tr>\n",
       "    <tr>\n",
       "      <th>2017-05-25</th>\n",
       "      <td>153.729996</td>\n",
       "      <td>154.350006</td>\n",
       "      <td>153.029999</td>\n",
       "      <td>153.869995</td>\n",
       "      <td>153.869995</td>\n",
       "      <td>19235600</td>\n",
       "    </tr>\n",
       "    <tr>\n",
       "      <th>2017-05-26</th>\n",
       "      <td>154.000000</td>\n",
       "      <td>154.240005</td>\n",
       "      <td>153.309998</td>\n",
       "      <td>153.610001</td>\n",
       "      <td>153.610001</td>\n",
       "      <td>21927600</td>\n",
       "    </tr>\n",
       "    <tr>\n",
       "      <th>2017-05-30</th>\n",
       "      <td>153.419998</td>\n",
       "      <td>154.429993</td>\n",
       "      <td>153.330002</td>\n",
       "      <td>153.669998</td>\n",
       "      <td>153.669998</td>\n",
       "      <td>20126900</td>\n",
       "    </tr>\n",
       "    <tr>\n",
       "      <th>2017-05-31</th>\n",
       "      <td>153.970001</td>\n",
       "      <td>154.169998</td>\n",
       "      <td>152.380005</td>\n",
       "      <td>152.759995</td>\n",
       "      <td>152.759995</td>\n",
       "      <td>24451200</td>\n",
       "    </tr>\n",
       "    <tr>\n",
       "      <th>2017-06-01</th>\n",
       "      <td>153.169998</td>\n",
       "      <td>153.330002</td>\n",
       "      <td>152.220001</td>\n",
       "      <td>153.179993</td>\n",
       "      <td>153.179993</td>\n",
       "      <td>16404100</td>\n",
       "    </tr>\n",
       "    <tr>\n",
       "      <th>2017-06-02</th>\n",
       "      <td>153.580002</td>\n",
       "      <td>155.449997</td>\n",
       "      <td>152.889999</td>\n",
       "      <td>155.449997</td>\n",
       "      <td>155.449997</td>\n",
       "      <td>27661800</td>\n",
       "    </tr>\n",
       "    <tr>\n",
       "      <th>2017-06-05</th>\n",
       "      <td>154.410004</td>\n",
       "      <td>154.449997</td>\n",
       "      <td>153.460007</td>\n",
       "      <td>153.740005</td>\n",
       "      <td>153.740005</td>\n",
       "      <td>13434674</td>\n",
       "    </tr>\n",
       "  </tbody>\n",
       "</table>\n",
       "</div>"
      ],
      "text/plain": [
       "                  Open        High         Low       Close   Adj Close  \\\n",
       "Date                                                                     \n",
       "2017-05-08  149.029999  153.699997  149.029999  153.009995  153.009995   \n",
       "2017-05-09  153.869995  154.880005  153.449997  153.990005  153.990005   \n",
       "2017-05-10  153.630005  153.940002  152.110001  153.259995  153.259995   \n",
       "2017-05-11  152.449997  154.070007  152.309998  153.949997  153.949997   \n",
       "2017-05-12  154.699997  156.419998  154.669998  156.100006  156.100006   \n",
       "2017-05-15  156.009995  156.649994  155.050003  155.699997  155.699997   \n",
       "2017-05-16  155.940002  156.059998  154.720001  155.470001  155.470001   \n",
       "2017-05-17  153.600006  154.570007  149.710007  150.250000  150.250000   \n",
       "2017-05-18  151.270004  153.339996  151.130005  152.539993  152.539993   \n",
       "2017-05-19  153.380005  153.979996  152.630005  153.059998  153.059998   \n",
       "2017-05-22  154.000000  154.580002  152.910004  153.990005  153.990005   \n",
       "2017-05-23  154.899994  154.899994  153.309998  153.800003  153.800003   \n",
       "2017-05-24  153.839996  154.169998  152.669998  153.339996  153.339996   \n",
       "2017-05-25  153.729996  154.350006  153.029999  153.869995  153.869995   \n",
       "2017-05-26  154.000000  154.240005  153.309998  153.610001  153.610001   \n",
       "2017-05-30  153.419998  154.429993  153.330002  153.669998  153.669998   \n",
       "2017-05-31  153.970001  154.169998  152.380005  152.759995  152.759995   \n",
       "2017-06-01  153.169998  153.330002  152.220001  153.179993  153.179993   \n",
       "2017-06-02  153.580002  155.449997  152.889999  155.449997  155.449997   \n",
       "2017-06-05  154.410004  154.449997  153.460007  153.740005  153.740005   \n",
       "\n",
       "              Volume  \n",
       "Date                  \n",
       "2017-05-08  48752400  \n",
       "2017-05-09  39130400  \n",
       "2017-05-10  25805700  \n",
       "2017-05-11  27255100  \n",
       "2017-05-12  32527000  \n",
       "2017-05-15  26009700  \n",
       "2017-05-16  20048500  \n",
       "2017-05-17  50767700  \n",
       "2017-05-18  33568200  \n",
       "2017-05-19  26960800  \n",
       "2017-05-22  22966400  \n",
       "2017-05-23  19918900  \n",
       "2017-05-24  19178000  \n",
       "2017-05-25  19235600  \n",
       "2017-05-26  21927600  \n",
       "2017-05-30  20126900  \n",
       "2017-05-31  24451200  \n",
       "2017-06-01  16404100  \n",
       "2017-06-02  27661800  \n",
       "2017-06-05  13434674  "
      ]
     },
     "execution_count": 36,
     "metadata": {},
     "output_type": "execute_result"
    }
   ],
   "source": [
    "data"
   ]
  },
  {
   "cell_type": "code",
   "execution_count": 37,
   "metadata": {
    "collapsed": false
   },
   "outputs": [
    {
     "data": {
      "text/plain": [
       "153.73699875"
      ]
     },
     "execution_count": 37,
     "metadata": {},
     "output_type": "execute_result"
    }
   ],
   "source": [
    "data['Close'].mean()"
   ]
  },
  {
   "cell_type": "code",
   "execution_count": 38,
   "metadata": {
    "collapsed": true
   },
   "outputs": [],
   "source": [
    "data.to_excel('C:/Users/karagiag/aapl.xlsx')"
   ]
  },
  {
   "cell_type": "code",
   "execution_count": 5,
   "metadata": {
    "collapsed": true
   },
   "outputs": [],
   "source": [
    "import numpy as np\n",
    "import pandas as pd"
   ]
  },
  {
   "cell_type": "code",
   "execution_count": 20,
   "metadata": {
    "collapsed": false
   },
   "outputs": [],
   "source": [
    "data = pd.DataFrame(np.random.randn(1000,4),columns=list('ABCD'))"
   ]
  },
  {
   "cell_type": "code",
   "execution_count": 21,
   "metadata": {
    "collapsed": false
   },
   "outputs": [
    {
     "data": {
      "text/html": [
       "<div>\n",
       "<table border=\"1\" class=\"dataframe\">\n",
       "  <thead>\n",
       "    <tr style=\"text-align: right;\">\n",
       "      <th></th>\n",
       "      <th>A</th>\n",
       "      <th>B</th>\n",
       "      <th>C</th>\n",
       "      <th>D</th>\n",
       "    </tr>\n",
       "  </thead>\n",
       "  <tbody>\n",
       "    <tr>\n",
       "      <th>0</th>\n",
       "      <td>-0.186180</td>\n",
       "      <td>0.278755</td>\n",
       "      <td>-1.040224</td>\n",
       "      <td>0.533769</td>\n",
       "    </tr>\n",
       "    <tr>\n",
       "      <th>1</th>\n",
       "      <td>-0.138350</td>\n",
       "      <td>1.114036</td>\n",
       "      <td>0.981569</td>\n",
       "      <td>2.293766</td>\n",
       "    </tr>\n",
       "    <tr>\n",
       "      <th>2</th>\n",
       "      <td>1.356303</td>\n",
       "      <td>-1.336675</td>\n",
       "      <td>-0.943001</td>\n",
       "      <td>0.786497</td>\n",
       "    </tr>\n",
       "    <tr>\n",
       "      <th>3</th>\n",
       "      <td>-0.016640</td>\n",
       "      <td>-0.730951</td>\n",
       "      <td>0.129630</td>\n",
       "      <td>-0.677982</td>\n",
       "    </tr>\n",
       "    <tr>\n",
       "      <th>4</th>\n",
       "      <td>-1.410768</td>\n",
       "      <td>-0.528835</td>\n",
       "      <td>0.661868</td>\n",
       "      <td>0.210347</td>\n",
       "    </tr>\n",
       "  </tbody>\n",
       "</table>\n",
       "</div>"
      ],
      "text/plain": [
       "          A         B         C         D\n",
       "0 -0.186180  0.278755 -1.040224  0.533769\n",
       "1 -0.138350  1.114036  0.981569  2.293766\n",
       "2  1.356303 -1.336675 -0.943001  0.786497\n",
       "3 -0.016640 -0.730951  0.129630 -0.677982\n",
       "4 -1.410768 -0.528835  0.661868  0.210347"
      ]
     },
     "execution_count": 21,
     "metadata": {},
     "output_type": "execute_result"
    }
   ],
   "source": [
    "data.head()"
   ]
  },
  {
   "cell_type": "code",
   "execution_count": 22,
   "metadata": {
    "collapsed": true
   },
   "outputs": [],
   "source": [
    "import sqlite3 as sq3"
   ]
  },
  {
   "cell_type": "code",
   "execution_count": 49,
   "metadata": {
    "collapsed": true
   },
   "outputs": [],
   "source": [
    "con=sq3.connect('data.sql')"
   ]
  },
  {
   "cell_type": "code",
   "execution_count": 50,
   "metadata": {
    "collapsed": true
   },
   "outputs": [],
   "source": [
    "data.to_sql('data',con)"
   ]
  },
  {
   "cell_type": "code",
   "execution_count": 60,
   "metadata": {
    "collapsed": true
   },
   "outputs": [],
   "source": [
    "query = 'SELECT * FROM data WHERE A>0.99 and B>0.99'"
   ]
  },
  {
   "cell_type": "code",
   "execution_count": 61,
   "metadata": {
    "collapsed": true
   },
   "outputs": [],
   "source": [
    "res=con.execute(query).fetchall()"
   ]
  },
  {
   "cell_type": "code",
   "execution_count": 62,
   "metadata": {
    "collapsed": false
   },
   "outputs": [
    {
     "data": {
      "text/plain": [
       "26"
      ]
     },
     "execution_count": 62,
     "metadata": {},
     "output_type": "execute_result"
    }
   ],
   "source": [
    "len(res)"
   ]
  }
 ],
 "metadata": {
  "kernelspec": {
   "display_name": "Python 2",
   "language": "python",
   "name": "python2"
  },
  "language_info": {
   "codemirror_mode": {
    "name": "ipython",
    "version": 2
   },
   "file_extension": ".py",
   "mimetype": "text/x-python",
   "name": "python",
   "nbconvert_exporter": "python",
   "pygments_lexer": "ipython2",
   "version": "2.7.13"
  }
 },
 "nbformat": 4,
 "nbformat_minor": 0
}

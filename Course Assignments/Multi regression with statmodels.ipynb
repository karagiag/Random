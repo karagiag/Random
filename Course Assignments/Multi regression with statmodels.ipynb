{
 "cells": [
  {
   "cell_type": "code",
   "execution_count": 1,
   "metadata": {
    "collapsed": false,
    "scrolled": true
   },
   "outputs": [
    {
     "name": "stderr",
     "output_type": "stream",
     "text": [
      "C:\\Users\\karagiag\\AppData\\Local\\Continuum\\Anaconda2\\lib\\site-packages\\statsmodels\\compat\\pandas.py:56: FutureWarning: The pandas.core.datetools module is deprecated and will be removed in a future version. Please use the pandas.tseries module instead.\n",
      "  from pandas.core import datetools\n"
     ]
    }
   ],
   "source": [
    "import statsmodels.api as sm\n",
    "import statsmodels.stats.api as sms"
   ]
  },
  {
   "cell_type": "code",
   "execution_count": 2,
   "metadata": {
    "collapsed": false
   },
   "outputs": [],
   "source": [
    "import pandas as pd\n",
    "import numpy as np\n",
    "import matplotlib.pyplot as plt"
   ]
  },
  {
   "cell_type": "code",
   "execution_count": 3,
   "metadata": {
    "collapsed": false,
    "scrolled": true
   },
   "outputs": [],
   "source": [
    "data = pd.read_csv('C:/Users/karagiag/Downloads/aapl.csv', index_col=0, parse_dates=True)"
   ]
  },
  {
   "cell_type": "code",
   "execution_count": 4,
   "metadata": {
    "collapsed": false
   },
   "outputs": [],
   "source": [
    "data = data.drop(data.columns[[0,1,2,4]],axis=1)"
   ]
  },
  {
   "cell_type": "code",
   "execution_count": 5,
   "metadata": {
    "collapsed": false
   },
   "outputs": [],
   "source": [
    "data = data.sort_index()"
   ]
  },
  {
   "cell_type": "code",
   "execution_count": 6,
   "metadata": {
    "collapsed": false
   },
   "outputs": [],
   "source": [
    "data['ret']=np.log(data['Close']/data['Close'].shift(1))"
   ]
  },
  {
   "cell_type": "markdown",
   "metadata": {},
   "source": []
  },
  {
   "cell_type": "code",
   "execution_count": 7,
   "metadata": {
    "collapsed": false
   },
   "outputs": [
    {
     "data": {
      "text/html": [
       "<div>\n",
       "<style>\n",
       "    .dataframe thead tr:only-child th {\n",
       "        text-align: right;\n",
       "    }\n",
       "\n",
       "    .dataframe thead th {\n",
       "        text-align: left;\n",
       "    }\n",
       "\n",
       "    .dataframe tbody tr th {\n",
       "        vertical-align: top;\n",
       "    }\n",
       "</style>\n",
       "<table border=\"1\" class=\"dataframe\">\n",
       "  <thead>\n",
       "    <tr style=\"text-align: right;\">\n",
       "      <th></th>\n",
       "      <th>Close</th>\n",
       "      <th>ret</th>\n",
       "    </tr>\n",
       "    <tr>\n",
       "      <th>Date</th>\n",
       "      <th></th>\n",
       "      <th></th>\n",
       "    </tr>\n",
       "  </thead>\n",
       "  <tbody>\n",
       "    <tr>\n",
       "      <th>2011-01-03</th>\n",
       "      <td>47.08</td>\n",
       "      <td>NaN</td>\n",
       "    </tr>\n",
       "    <tr>\n",
       "      <th>2011-01-04</th>\n",
       "      <td>47.33</td>\n",
       "      <td>0.005296</td>\n",
       "    </tr>\n",
       "    <tr>\n",
       "      <th>2011-01-05</th>\n",
       "      <td>47.71</td>\n",
       "      <td>0.007997</td>\n",
       "    </tr>\n",
       "    <tr>\n",
       "      <th>2011-01-06</th>\n",
       "      <td>47.68</td>\n",
       "      <td>-0.000629</td>\n",
       "    </tr>\n",
       "    <tr>\n",
       "      <th>2011-01-07</th>\n",
       "      <td>48.02</td>\n",
       "      <td>0.007106</td>\n",
       "    </tr>\n",
       "  </tbody>\n",
       "</table>\n",
       "</div>"
      ],
      "text/plain": [
       "            Close       ret\n",
       "Date                       \n",
       "2011-01-03  47.08       NaN\n",
       "2011-01-04  47.33  0.005296\n",
       "2011-01-05  47.71  0.007997\n",
       "2011-01-06  47.68 -0.000629\n",
       "2011-01-07  48.02  0.007106"
      ]
     },
     "execution_count": 7,
     "metadata": {},
     "output_type": "execute_result"
    }
   ],
   "source": [
    "data.head()"
   ]
  },
  {
   "cell_type": "code",
   "execution_count": 8,
   "metadata": {
    "collapsed": false
   },
   "outputs": [],
   "source": [
    "factors = pd.read_csv('C:/Users/karagiag/Downloads/FF_Factors_daily.csv')"
   ]
  },
  {
   "cell_type": "code",
   "execution_count": 9,
   "metadata": {
    "collapsed": false
   },
   "outputs": [
    {
     "data": {
      "text/html": [
       "<div>\n",
       "<style>\n",
       "    .dataframe thead tr:only-child th {\n",
       "        text-align: right;\n",
       "    }\n",
       "\n",
       "    .dataframe thead th {\n",
       "        text-align: left;\n",
       "    }\n",
       "\n",
       "    .dataframe tbody tr th {\n",
       "        vertical-align: top;\n",
       "    }\n",
       "</style>\n",
       "<table border=\"1\" class=\"dataframe\">\n",
       "  <thead>\n",
       "    <tr style=\"text-align: right;\">\n",
       "      <th></th>\n",
       "      <th>Date</th>\n",
       "      <th>Mkt-RF</th>\n",
       "      <th>SMB</th>\n",
       "      <th>HML</th>\n",
       "      <th>RF</th>\n",
       "    </tr>\n",
       "  </thead>\n",
       "  <tbody>\n",
       "    <tr>\n",
       "      <th>0</th>\n",
       "      <td>19260701</td>\n",
       "      <td>0.10</td>\n",
       "      <td>-0.24</td>\n",
       "      <td>-0.28</td>\n",
       "      <td>0.009</td>\n",
       "    </tr>\n",
       "    <tr>\n",
       "      <th>1</th>\n",
       "      <td>19260702</td>\n",
       "      <td>0.45</td>\n",
       "      <td>-0.32</td>\n",
       "      <td>-0.08</td>\n",
       "      <td>0.009</td>\n",
       "    </tr>\n",
       "    <tr>\n",
       "      <th>2</th>\n",
       "      <td>19260706</td>\n",
       "      <td>0.17</td>\n",
       "      <td>0.27</td>\n",
       "      <td>-0.35</td>\n",
       "      <td>0.009</td>\n",
       "    </tr>\n",
       "    <tr>\n",
       "      <th>3</th>\n",
       "      <td>19260707</td>\n",
       "      <td>0.09</td>\n",
       "      <td>-0.59</td>\n",
       "      <td>0.03</td>\n",
       "      <td>0.009</td>\n",
       "    </tr>\n",
       "    <tr>\n",
       "      <th>4</th>\n",
       "      <td>19260708</td>\n",
       "      <td>0.21</td>\n",
       "      <td>-0.36</td>\n",
       "      <td>0.15</td>\n",
       "      <td>0.009</td>\n",
       "    </tr>\n",
       "  </tbody>\n",
       "</table>\n",
       "</div>"
      ],
      "text/plain": [
       "       Date  Mkt-RF   SMB   HML     RF\n",
       "0  19260701    0.10 -0.24 -0.28  0.009\n",
       "1  19260702    0.45 -0.32 -0.08  0.009\n",
       "2  19260706    0.17  0.27 -0.35  0.009\n",
       "3  19260707    0.09 -0.59  0.03  0.009\n",
       "4  19260708    0.21 -0.36  0.15  0.009"
      ]
     },
     "execution_count": 9,
     "metadata": {},
     "output_type": "execute_result"
    }
   ],
   "source": [
    "factors.head()"
   ]
  },
  {
   "cell_type": "code",
   "execution_count": 10,
   "metadata": {
    "collapsed": false
   },
   "outputs": [],
   "source": [
    "factors['Date'] = pd.to_datetime(factors['Date'],format='%Y%m%d', errors='coerce')"
   ]
  },
  {
   "cell_type": "code",
   "execution_count": 11,
   "metadata": {
    "collapsed": false
   },
   "outputs": [
    {
     "data": {
      "text/html": [
       "<div>\n",
       "<style>\n",
       "    .dataframe thead tr:only-child th {\n",
       "        text-align: right;\n",
       "    }\n",
       "\n",
       "    .dataframe thead th {\n",
       "        text-align: left;\n",
       "    }\n",
       "\n",
       "    .dataframe tbody tr th {\n",
       "        vertical-align: top;\n",
       "    }\n",
       "</style>\n",
       "<table border=\"1\" class=\"dataframe\">\n",
       "  <thead>\n",
       "    <tr style=\"text-align: right;\">\n",
       "      <th></th>\n",
       "      <th>Date</th>\n",
       "      <th>Mkt-RF</th>\n",
       "      <th>SMB</th>\n",
       "      <th>HML</th>\n",
       "      <th>RF</th>\n",
       "    </tr>\n",
       "  </thead>\n",
       "  <tbody>\n",
       "    <tr>\n",
       "      <th>24054</th>\n",
       "      <td>2017-08-29</td>\n",
       "      <td>0.10</td>\n",
       "      <td>0.13</td>\n",
       "      <td>-0.39</td>\n",
       "      <td>0.003</td>\n",
       "    </tr>\n",
       "    <tr>\n",
       "      <th>24055</th>\n",
       "      <td>2017-08-30</td>\n",
       "      <td>0.53</td>\n",
       "      <td>0.02</td>\n",
       "      <td>-0.31</td>\n",
       "      <td>0.003</td>\n",
       "    </tr>\n",
       "    <tr>\n",
       "      <th>24056</th>\n",
       "      <td>2017-08-31</td>\n",
       "      <td>0.62</td>\n",
       "      <td>0.48</td>\n",
       "      <td>-0.41</td>\n",
       "      <td>0.003</td>\n",
       "    </tr>\n",
       "    <tr>\n",
       "      <th>24057</th>\n",
       "      <td>NaT</td>\n",
       "      <td>NaN</td>\n",
       "      <td>NaN</td>\n",
       "      <td>NaN</td>\n",
       "      <td>NaN</td>\n",
       "    </tr>\n",
       "    <tr>\n",
       "      <th>24058</th>\n",
       "      <td>NaT</td>\n",
       "      <td>NaN</td>\n",
       "      <td>NaN</td>\n",
       "      <td>NaN</td>\n",
       "      <td>NaN</td>\n",
       "    </tr>\n",
       "  </tbody>\n",
       "</table>\n",
       "</div>"
      ],
      "text/plain": [
       "            Date  Mkt-RF   SMB   HML     RF\n",
       "24054 2017-08-29    0.10  0.13 -0.39  0.003\n",
       "24055 2017-08-30    0.53  0.02 -0.31  0.003\n",
       "24056 2017-08-31    0.62  0.48 -0.41  0.003\n",
       "24057        NaT     NaN   NaN   NaN    NaN\n",
       "24058        NaT     NaN   NaN   NaN    NaN"
      ]
     },
     "execution_count": 11,
     "metadata": {},
     "output_type": "execute_result"
    }
   ],
   "source": [
    "factors.tail()"
   ]
  },
  {
   "cell_type": "code",
   "execution_count": 12,
   "metadata": {
    "collapsed": true
   },
   "outputs": [],
   "source": [
    "factors = factors.drop(factors.tail(2).index)"
   ]
  },
  {
   "cell_type": "code",
   "execution_count": 13,
   "metadata": {
    "collapsed": false
   },
   "outputs": [
    {
     "data": {
      "text/html": [
       "<div>\n",
       "<style>\n",
       "    .dataframe thead tr:only-child th {\n",
       "        text-align: right;\n",
       "    }\n",
       "\n",
       "    .dataframe thead th {\n",
       "        text-align: left;\n",
       "    }\n",
       "\n",
       "    .dataframe tbody tr th {\n",
       "        vertical-align: top;\n",
       "    }\n",
       "</style>\n",
       "<table border=\"1\" class=\"dataframe\">\n",
       "  <thead>\n",
       "    <tr style=\"text-align: right;\">\n",
       "      <th></th>\n",
       "      <th>Date</th>\n",
       "      <th>Mkt-RF</th>\n",
       "      <th>SMB</th>\n",
       "      <th>HML</th>\n",
       "      <th>RF</th>\n",
       "    </tr>\n",
       "  </thead>\n",
       "  <tbody>\n",
       "    <tr>\n",
       "      <th>24052</th>\n",
       "      <td>2017-08-25</td>\n",
       "      <td>0.18</td>\n",
       "      <td>0.12</td>\n",
       "      <td>0.57</td>\n",
       "      <td>0.003</td>\n",
       "    </tr>\n",
       "    <tr>\n",
       "      <th>24053</th>\n",
       "      <td>2017-08-28</td>\n",
       "      <td>0.08</td>\n",
       "      <td>0.35</td>\n",
       "      <td>-0.74</td>\n",
       "      <td>0.003</td>\n",
       "    </tr>\n",
       "    <tr>\n",
       "      <th>24054</th>\n",
       "      <td>2017-08-29</td>\n",
       "      <td>0.10</td>\n",
       "      <td>0.13</td>\n",
       "      <td>-0.39</td>\n",
       "      <td>0.003</td>\n",
       "    </tr>\n",
       "    <tr>\n",
       "      <th>24055</th>\n",
       "      <td>2017-08-30</td>\n",
       "      <td>0.53</td>\n",
       "      <td>0.02</td>\n",
       "      <td>-0.31</td>\n",
       "      <td>0.003</td>\n",
       "    </tr>\n",
       "    <tr>\n",
       "      <th>24056</th>\n",
       "      <td>2017-08-31</td>\n",
       "      <td>0.62</td>\n",
       "      <td>0.48</td>\n",
       "      <td>-0.41</td>\n",
       "      <td>0.003</td>\n",
       "    </tr>\n",
       "  </tbody>\n",
       "</table>\n",
       "</div>"
      ],
      "text/plain": [
       "            Date  Mkt-RF   SMB   HML     RF\n",
       "24052 2017-08-25    0.18  0.12  0.57  0.003\n",
       "24053 2017-08-28    0.08  0.35 -0.74  0.003\n",
       "24054 2017-08-29    0.10  0.13 -0.39  0.003\n",
       "24055 2017-08-30    0.53  0.02 -0.31  0.003\n",
       "24056 2017-08-31    0.62  0.48 -0.41  0.003"
      ]
     },
     "execution_count": 13,
     "metadata": {},
     "output_type": "execute_result"
    }
   ],
   "source": [
    "factors.tail()"
   ]
  },
  {
   "cell_type": "code",
   "execution_count": 14,
   "metadata": {
    "collapsed": false
   },
   "outputs": [],
   "source": [
    "factors=factors.set_index('Date')"
   ]
  },
  {
   "cell_type": "code",
   "execution_count": 15,
   "metadata": {
    "collapsed": false
   },
   "outputs": [],
   "source": [
    "data = pd.concat([data,factors],join='inner', axis=1)"
   ]
  },
  {
   "cell_type": "code",
   "execution_count": 16,
   "metadata": {
    "collapsed": false
   },
   "outputs": [
    {
     "data": {
      "text/html": [
       "<div>\n",
       "<style>\n",
       "    .dataframe thead tr:only-child th {\n",
       "        text-align: right;\n",
       "    }\n",
       "\n",
       "    .dataframe thead th {\n",
       "        text-align: left;\n",
       "    }\n",
       "\n",
       "    .dataframe tbody tr th {\n",
       "        vertical-align: top;\n",
       "    }\n",
       "</style>\n",
       "<table border=\"1\" class=\"dataframe\">\n",
       "  <thead>\n",
       "    <tr style=\"text-align: right;\">\n",
       "      <th></th>\n",
       "      <th>Close</th>\n",
       "      <th>ret</th>\n",
       "      <th>Mkt-RF</th>\n",
       "      <th>SMB</th>\n",
       "      <th>HML</th>\n",
       "      <th>RF</th>\n",
       "    </tr>\n",
       "    <tr>\n",
       "      <th>Date</th>\n",
       "      <th></th>\n",
       "      <th></th>\n",
       "      <th></th>\n",
       "      <th></th>\n",
       "      <th></th>\n",
       "      <th></th>\n",
       "    </tr>\n",
       "  </thead>\n",
       "  <tbody>\n",
       "    <tr>\n",
       "      <th>2011-01-03</th>\n",
       "      <td>47.08</td>\n",
       "      <td>NaN</td>\n",
       "      <td>1.18</td>\n",
       "      <td>0.53</td>\n",
       "      <td>0.79</td>\n",
       "      <td>0.0</td>\n",
       "    </tr>\n",
       "    <tr>\n",
       "      <th>2011-01-04</th>\n",
       "      <td>47.33</td>\n",
       "      <td>0.005296</td>\n",
       "      <td>-0.26</td>\n",
       "      <td>-1.38</td>\n",
       "      <td>0.11</td>\n",
       "      <td>0.0</td>\n",
       "    </tr>\n",
       "    <tr>\n",
       "      <th>2011-01-05</th>\n",
       "      <td>47.71</td>\n",
       "      <td>0.007997</td>\n",
       "      <td>0.59</td>\n",
       "      <td>0.61</td>\n",
       "      <td>0.14</td>\n",
       "      <td>0.0</td>\n",
       "    </tr>\n",
       "    <tr>\n",
       "      <th>2011-01-06</th>\n",
       "      <td>47.68</td>\n",
       "      <td>-0.000629</td>\n",
       "      <td>-0.15</td>\n",
       "      <td>-0.06</td>\n",
       "      <td>-0.32</td>\n",
       "      <td>0.0</td>\n",
       "    </tr>\n",
       "    <tr>\n",
       "      <th>2011-01-07</th>\n",
       "      <td>48.02</td>\n",
       "      <td>0.007106</td>\n",
       "      <td>-0.21</td>\n",
       "      <td>-0.26</td>\n",
       "      <td>-0.31</td>\n",
       "      <td>0.0</td>\n",
       "    </tr>\n",
       "  </tbody>\n",
       "</table>\n",
       "</div>"
      ],
      "text/plain": [
       "            Close       ret  Mkt-RF   SMB   HML   RF\n",
       "Date                                                \n",
       "2011-01-03  47.08       NaN    1.18  0.53  0.79  0.0\n",
       "2011-01-04  47.33  0.005296   -0.26 -1.38  0.11  0.0\n",
       "2011-01-05  47.71  0.007997    0.59  0.61  0.14  0.0\n",
       "2011-01-06  47.68 -0.000629   -0.15 -0.06 -0.32  0.0\n",
       "2011-01-07  48.02  0.007106   -0.21 -0.26 -0.31  0.0"
      ]
     },
     "execution_count": 16,
     "metadata": {},
     "output_type": "execute_result"
    }
   ],
   "source": [
    "data.head()"
   ]
  },
  {
   "cell_type": "code",
   "execution_count": 17,
   "metadata": {
    "collapsed": true
   },
   "outputs": [],
   "source": [
    "data = data.drop(data.head(1).index)"
   ]
  },
  {
   "cell_type": "code",
   "execution_count": 18,
   "metadata": {
    "collapsed": false
   },
   "outputs": [
    {
     "data": {
      "text/html": [
       "<div>\n",
       "<style>\n",
       "    .dataframe thead tr:only-child th {\n",
       "        text-align: right;\n",
       "    }\n",
       "\n",
       "    .dataframe thead th {\n",
       "        text-align: left;\n",
       "    }\n",
       "\n",
       "    .dataframe tbody tr th {\n",
       "        vertical-align: top;\n",
       "    }\n",
       "</style>\n",
       "<table border=\"1\" class=\"dataframe\">\n",
       "  <thead>\n",
       "    <tr style=\"text-align: right;\">\n",
       "      <th></th>\n",
       "      <th>Close</th>\n",
       "      <th>ret</th>\n",
       "      <th>Mkt-RF</th>\n",
       "      <th>SMB</th>\n",
       "      <th>HML</th>\n",
       "      <th>RF</th>\n",
       "    </tr>\n",
       "    <tr>\n",
       "      <th>Date</th>\n",
       "      <th></th>\n",
       "      <th></th>\n",
       "      <th></th>\n",
       "      <th></th>\n",
       "      <th></th>\n",
       "      <th></th>\n",
       "    </tr>\n",
       "  </thead>\n",
       "  <tbody>\n",
       "    <tr>\n",
       "      <th>2011-01-04</th>\n",
       "      <td>47.33</td>\n",
       "      <td>0.005296</td>\n",
       "      <td>-0.26</td>\n",
       "      <td>-1.38</td>\n",
       "      <td>0.11</td>\n",
       "      <td>0.0</td>\n",
       "    </tr>\n",
       "    <tr>\n",
       "      <th>2011-01-05</th>\n",
       "      <td>47.71</td>\n",
       "      <td>0.007997</td>\n",
       "      <td>0.59</td>\n",
       "      <td>0.61</td>\n",
       "      <td>0.14</td>\n",
       "      <td>0.0</td>\n",
       "    </tr>\n",
       "    <tr>\n",
       "      <th>2011-01-06</th>\n",
       "      <td>47.68</td>\n",
       "      <td>-0.000629</td>\n",
       "      <td>-0.15</td>\n",
       "      <td>-0.06</td>\n",
       "      <td>-0.32</td>\n",
       "      <td>0.0</td>\n",
       "    </tr>\n",
       "    <tr>\n",
       "      <th>2011-01-07</th>\n",
       "      <td>48.02</td>\n",
       "      <td>0.007106</td>\n",
       "      <td>-0.21</td>\n",
       "      <td>-0.26</td>\n",
       "      <td>-0.31</td>\n",
       "      <td>0.0</td>\n",
       "    </tr>\n",
       "    <tr>\n",
       "      <th>2011-01-10</th>\n",
       "      <td>48.92</td>\n",
       "      <td>0.018569</td>\n",
       "      <td>-0.02</td>\n",
       "      <td>0.56</td>\n",
       "      <td>-0.15</td>\n",
       "      <td>0.0</td>\n",
       "    </tr>\n",
       "  </tbody>\n",
       "</table>\n",
       "</div>"
      ],
      "text/plain": [
       "            Close       ret  Mkt-RF   SMB   HML   RF\n",
       "Date                                                \n",
       "2011-01-04  47.33  0.005296   -0.26 -1.38  0.11  0.0\n",
       "2011-01-05  47.71  0.007997    0.59  0.61  0.14  0.0\n",
       "2011-01-06  47.68 -0.000629   -0.15 -0.06 -0.32  0.0\n",
       "2011-01-07  48.02  0.007106   -0.21 -0.26 -0.31  0.0\n",
       "2011-01-10  48.92  0.018569   -0.02  0.56 -0.15  0.0"
      ]
     },
     "execution_count": 18,
     "metadata": {},
     "output_type": "execute_result"
    }
   ],
   "source": [
    "data.head()"
   ]
  },
  {
   "cell_type": "code",
   "execution_count": 19,
   "metadata": {
    "collapsed": true
   },
   "outputs": [],
   "source": [
    "data['ret']=data['ret']-data['RF']"
   ]
  },
  {
   "cell_type": "code",
   "execution_count": 320,
   "metadata": {
    "collapsed": true
   },
   "outputs": [],
   "source": [
    "X = data[data.columns[2:5]]\n",
    "y = data['ret']"
   ]
  },
  {
   "cell_type": "code",
   "execution_count": 321,
   "metadata": {
    "collapsed": true
   },
   "outputs": [],
   "source": [
    "model = sm.OLS(y,X)"
   ]
  },
  {
   "cell_type": "code",
   "execution_count": 322,
   "metadata": {
    "collapsed": true
   },
   "outputs": [],
   "source": [
    "results=model.fit()"
   ]
  },
  {
   "cell_type": "code",
   "execution_count": 323,
   "metadata": {
    "collapsed": false
   },
   "outputs": [
    {
     "name": "stdout",
     "output_type": "stream",
     "text": [
      "                            OLS Regression Results                            \n",
      "==============================================================================\n",
      "Dep. Variable:                    ret   R-squared:                       0.314\n",
      "Model:                            OLS   Adj. R-squared:                  0.313\n",
      "Method:                 Least Squares   F-statistic:                     230.1\n",
      "Date:                Fri, 03 Nov 2017   Prob (F-statistic):          7.03e-123\n",
      "Time:                        21:05:55   Log-Likelihood:                 4338.5\n",
      "No. Observations:                1509   AIC:                            -8671.\n",
      "Df Residuals:                    1506   BIC:                            -8655.\n",
      "Df Model:                           3                                         \n",
      "Covariance Type:            nonrobust                                         \n",
      "==============================================================================\n",
      "                 coef    std err          t      P>|t|      [0.025      0.975]\n",
      "------------------------------------------------------------------------------\n",
      "Mkt-RF         0.0097      0.000     24.786      0.000       0.009       0.010\n",
      "SMB           -0.0025      0.001     -3.366      0.001      -0.004      -0.001\n",
      "HML           -0.0072      0.001     -9.280      0.000      -0.009      -0.006\n",
      "==============================================================================\n",
      "Omnibus:                      343.440   Durbin-Watson:                   1.898\n",
      "Prob(Omnibus):                  0.000   Jarque-Bera (JB):             5487.479\n",
      "Skew:                          -0.609   Prob(JB):                         0.00\n",
      "Kurtosis:                      12.262   Cond. No.                         2.39\n",
      "==============================================================================\n",
      "\n",
      "Warnings:\n",
      "[1] Standard Errors assume that the covariance matrix of the errors is correctly specified.\n"
     ]
    }
   ],
   "source": [
    "print(results.summary())"
   ]
  },
  {
   "cell_type": "code",
   "execution_count": 23,
   "metadata": {
    "collapsed": false
   },
   "outputs": [],
   "source": [
    "#The Durbin-Watson test statistic tests the null hypothesis that the residuals from an\n",
    "#ordinary least-squares regression are not autocorrelated against the alternative that the\n",
    "#residuals follow an AR1 process. The Durbin-Watson statistic ranges in value from 0\n",
    "#to 4. A value near 2 indicates non-autocorrelation; a value toward 0 indicates positive\n",
    "#autocorrelation; a value toward 4 indicates negative autocorrelation\n",
    "# A value between the lower and upper bound means the test is inconclusive"
   ]
  },
  {
   "cell_type": "code",
   "execution_count": 24,
   "metadata": {
    "collapsed": true
   },
   "outputs": [],
   "source": [
    "# Jarque–Bera tests whether sample data have the skewness and kurtosis matching a normal distribution\n",
    "#In order to interpret results, you may need to do a little comparison\n",
    "#Checking p-values is always a good idea. For example, a tiny p-value and a large chi-square value from this test \n",
    "#means that you can reject the null hypothesis that the data is normally distributed."
   ]
  },
  {
   "cell_type": "code",
   "execution_count": 25,
   "metadata": {
    "collapsed": false
   },
   "outputs": [
    {
     "data": {
      "text/plain": [
       "(0.06411965773774797, 6.3158073932795447e-16)"
      ]
     },
     "execution_count": 25,
     "metadata": {},
     "output_type": "execute_result"
    }
   ],
   "source": [
    "sms.diagnostic.kstest_normal(results.resid)"
   ]
  },
  {
   "cell_type": "code",
   "execution_count": 26,
   "metadata": {
    "collapsed": true
   },
   "outputs": [],
   "source": [
    "#The Kolmogorov-Smirnov test is defined by:\n",
    "#H0:\tThe data follow a specified distribution\n",
    "#Ha:\tThe data do not follow the specified distribution\n",
    "# Significance level:  α = 0.01\n",
    "# Critical value:  1.358/√n = 0.034    \n",
    "# Critical region:  Reject H0 if D > 0.034 or\n",
    "# p-value=6.315807393279096e-16 < a (so we reject the Null of normality)"
   ]
  },
  {
   "cell_type": "code",
   "execution_count": 27,
   "metadata": {
    "collapsed": false
   },
   "outputs": [
    {
     "data": {
      "text/plain": [
       "NormaltestResult(statistic=343.44032266634525, pvalue=2.6477775860955586e-75)"
      ]
     },
     "execution_count": 27,
     "metadata": {},
     "output_type": "execute_result"
    }
   ],
   "source": [
    "sms.omni_normtest(results.resid)"
   ]
  },
  {
   "cell_type": "code",
   "execution_count": 305,
   "metadata": {
    "collapsed": false
   },
   "outputs": [
    {
     "data": {
      "image/png": "[encoded data removed]",
      "text/plain": [
       "<matplotlib.figure.Figure at 0x15823e10>"
      ]
     },
     "metadata": {},
     "output_type": "display_data"
    }
   ],
   "source": [
    "%matplotlib inline\n",
    "plt.hist(results.resid, normed=True, bins=30);"
   ]
  },
  {
   "cell_type": "code",
   "execution_count": 29,
   "metadata": {
    "collapsed": true
   },
   "outputs": [],
   "source": [
    "# when kurtosis>3 (here is 12) distribution is leptokurtic"
   ]
  },
  {
   "cell_type": "code",
   "execution_count": 306,
   "metadata": {
    "collapsed": false
   },
   "outputs": [
    {
     "data": {
      "image/png": "[encoded data removed]",
      "text/plain": [
       "<matplotlib.figure.Figure at 0x13d23bd0>"
      ]
     },
     "metadata": {},
     "output_type": "display_data"
    }
   ],
   "source": [
    "import scipy.stats as stats\n",
    "# Graphical test: if the data lie on a line, they are pretty much\n",
    "# normally distributed\n",
    "stats.probplot(results.resid, plot=plt);"
   ]
  },
  {
   "cell_type": "code",
   "execution_count": 31,
   "metadata": {
    "collapsed": false
   },
   "outputs": [
    {
     "data": {
      "text/plain": [
       "<matplotlib.text.Text at 0x12f4b410>"
      ]
     },
     "execution_count": 31,
     "metadata": {},
     "output_type": "execute_result"
    },
    {
     "data": {
      "image/png": "[encoded data removed]",
      "text/plain": [
       "<matplotlib.figure.Figure at 0x12d8a050>"
      ]
     },
     "metadata": {},
     "output_type": "display_data"
    }
   ],
   "source": [
    "plt.scatter(data.index,results.resid)\n",
    "# Residuals look independent\n",
    "plt.title('Residual vs Time')"
   ]
  },
  {
   "cell_type": "code",
   "execution_count": 324,
   "metadata": {
    "collapsed": false
   },
   "outputs": [],
   "source": [
    "#Checking for Equal (constant) Variance, i.e. heteroskedasticity by plotting\n",
    "#Plot residuals against fitted values \n",
    "# First fit values\n",
    "y_hat = results.predict(X)"
   ]
  },
  {
   "cell_type": "code",
   "execution_count": 327,
   "metadata": {
    "collapsed": false
   },
   "outputs": [
    {
     "data": {
      "image/png": "[encoded data removed]",
      "text/plain": [
       "<matplotlib.figure.Figure at 0x15345af0>"
      ]
     },
     "metadata": {},
     "output_type": "display_data"
    }
   ],
   "source": [
    "plt.scatter(y_hat,results.resid);\n",
    "plt.title('Residual vs Fitted Value')\n",
    "plt.ylim([-.10,0.10]);\n",
    "plt.xlim([-.06,0.06]);"
   ]
  },
  {
   "cell_type": "code",
   "execution_count": 34,
   "metadata": {
    "collapsed": false
   },
   "outputs": [
    {
     "name": "stdout",
     "output_type": "stream",
     "text": [
      "(['Lagrange multiplier statistic', 'p-value', 'f-value', 'f p-value'], (0.37733252485290103, 0.82806281625977229, 0.1255588501750225, 0.94500148966327358))\n"
     ]
    }
   ],
   "source": [
    "#Checking for Equal (constant) Variance, i.e. heteroskedasticity with Tests\n",
    "#Breusch-Pagan test:\n",
    "name = ['Lagrange multiplier statistic', 'p-value','f-value', 'f p-value']\n",
    "test = sms.het_breuschpagan(results.resid,results.model.exog)\n",
    "print (name,test)"
   ]
  },
  {
   "cell_type": "code",
   "execution_count": 328,
   "metadata": {
    "collapsed": false
   },
   "outputs": [
    {
     "data": {
      "text/plain": [
       "array([[-0.26, -1.38,  0.11],\n",
       "       [ 0.59,  0.61,  0.14],\n",
       "       [-0.15, -0.06, -0.32],\n",
       "       ..., \n",
       "       [-0.87, -0.27,  0.09],\n",
       "       [-0.04,  0.13, -0.31],\n",
       "       [-0.52, -0.11,  0.2 ]])"
      ]
     },
     "execution_count": 328,
     "metadata": {},
     "output_type": "execute_result"
    }
   ],
   "source": [
    "results.model.exog"
   ]
  },
  {
   "cell_type": "code",
   "execution_count": 35,
   "metadata": {
    "collapsed": true
   },
   "outputs": [],
   "source": [
    "# If the test statistic has a p-value below an appropriate threshold (e.g. p<0.05) \n",
    "#then the null hypothesis of homoskedasticity is rejected and heteroskedasticity assumed."
   ]
  },
  {
   "cell_type": "code",
   "execution_count": 36,
   "metadata": {
    "collapsed": false
   },
   "outputs": [
    {
     "name": "stdout",
     "output_type": "stream",
     "text": [
      "Ttest_1sampResult(statistic=-0.074727913506813529, pvalue=0.94044112906467026)\n"
     ]
    }
   ],
   "source": [
    "# Checking for Linearity in the data\n",
    "# By plotting (here I have 3 factors so difficult) or by test statistics\n",
    "# Harvey_collier Test (checks if null: residuals have a mean of 0)\n",
    "test = sms.linear_harvey_collier(results)\n",
    "print test"
   ]
  },
  {
   "cell_type": "code",
   "execution_count": 37,
   "metadata": {
    "collapsed": false
   },
   "outputs": [
    {
     "name": "stdout",
     "output_type": "stream",
     "text": [
      "(0.71174007890353863, 0.99999836875995818)\n"
     ]
    }
   ],
   "source": [
    "# Second test for cheking linearity is the \n",
    "# Rainbow Test()\n",
    "test = sms.diagnostic.linear_rainbow(results)\n",
    "print test"
   ]
  },
  {
   "cell_type": "code",
   "execution_count": 38,
   "metadata": {
    "collapsed": false
   },
   "outputs": [
    {
     "name": "stdout",
     "output_type": "stream",
     "text": [
      "1.89828156066 (array([  3.90148444,   4.25595483,   5.67746645,   5.72700664,\n",
      "         8.10434469,  10.72144513,  12.38201013,  14.76111339,\n",
      "        14.76664925,  15.10982558]), array([ 0.04824346,  0.1190779 ,  0.12840116,  0.22048426,  0.15057797,\n",
      "        0.09737656,  0.08867564,  0.06396033,  0.0975484 ,  0.12810882]))\n"
     ]
    }
   ],
   "source": [
    "# Testing for autocorellation of residuals\n",
    "# Durbin Watson / Ljung - Box\n",
    "test1 = sms.durbin_watson(results.resid)\n",
    "test2 = sms.acorr_ljungbox(results.resid, lags = 10, boxpierce=False)\n",
    "print test1, test2\n",
    "# DW near 2 means no autocorrelation\n",
    "# p-values<0.05  mean there is no autocorrelation"
   ]
  },
  {
   "cell_type": "code",
   "execution_count": 39,
   "metadata": {
    "collapsed": false
   },
   "outputs": [
    {
     "data": {
      "text/html": [
       "<div>\n",
       "<style>\n",
       "    .dataframe thead tr:only-child th {\n",
       "        text-align: right;\n",
       "    }\n",
       "\n",
       "    .dataframe thead th {\n",
       "        text-align: left;\n",
       "    }\n",
       "\n",
       "    .dataframe tbody tr th {\n",
       "        vertical-align: top;\n",
       "    }\n",
       "</style>\n",
       "<table border=\"1\" class=\"dataframe\">\n",
       "  <thead>\n",
       "    <tr style=\"text-align: right;\">\n",
       "      <th></th>\n",
       "      <th>Mkt-RF</th>\n",
       "      <th>SMB</th>\n",
       "      <th>HML</th>\n",
       "    </tr>\n",
       "  </thead>\n",
       "  <tbody>\n",
       "    <tr>\n",
       "      <th>Mkt-RF</th>\n",
       "      <td>1.000000</td>\n",
       "      <td>0.358181</td>\n",
       "      <td>0.118814</td>\n",
       "    </tr>\n",
       "    <tr>\n",
       "      <th>SMB</th>\n",
       "      <td>0.358181</td>\n",
       "      <td>1.000000</td>\n",
       "      <td>-0.123406</td>\n",
       "    </tr>\n",
       "    <tr>\n",
       "      <th>HML</th>\n",
       "      <td>0.118814</td>\n",
       "      <td>-0.123406</td>\n",
       "      <td>1.000000</td>\n",
       "    </tr>\n",
       "  </tbody>\n",
       "</table>\n",
       "</div>"
      ],
      "text/plain": [
       "          Mkt-RF       SMB       HML\n",
       "Mkt-RF  1.000000  0.358181  0.118814\n",
       "SMB     0.358181  1.000000 -0.123406\n",
       "HML     0.118814 -0.123406  1.000000"
      ]
     },
     "execution_count": 39,
     "metadata": {},
     "output_type": "execute_result"
    }
   ],
   "source": [
    "# Testing for multicolinearity.  \n",
    "#Multicollinearity refers to the situation when two independent variables are highly correlated \n",
    "# Let's start by looking at the corr matrix of the exogenous variables\n",
    "corr_matrix = data[data.columns[2:5]].corr()\n",
    "corr_matrix"
   ]
  },
  {
   "cell_type": "code",
   "execution_count": 40,
   "metadata": {
    "collapsed": false
   },
   "outputs": [
    {
     "data": {
      "text/plain": [
       "2.3891339074985289"
      ]
     },
     "execution_count": 40,
     "metadata": {},
     "output_type": "execute_result"
    }
   ],
   "source": [
    "# Also from numpy we can use the Condition number\n",
    "np.linalg.cond(results.model.exog)\n",
    "# If value is large we get a warning at the summary table,\n",
    "#\"The condition number is large, 4.86e+09. \n",
    "# \"This might indicate that there are strong multicollinearity or other numerical problems.\""
   ]
  },
  {
   "cell_type": "code",
   "execution_count": null,
   "metadata": {
    "collapsed": true
   },
   "outputs": [],
   "source": [
    "#Regression Outliers (A regression outlier is an observation that has an unusual value of the outcome variable Y, conditional on its value of the explanatory variable X)\n",
    "#• Studentized residuals (and the Bonferroni adjustment)\n",
    "#Leverage (An observation that has an unusual X value - i.e., it is far from the mean of X - has leverage on the regression line)\n",
    "#• Hat values\n",
    "#Influence\n",
    "#• DFBETAs, Cook’s D, influence plots, added-variable plots (partial regression plots)\n",
    "\n",
    "#https://quantoid.net/files/702/lecture9.pdf"
   ]
  },
  {
   "cell_type": "code",
   "execution_count": 78,
   "metadata": {
    "collapsed": false
   },
   "outputs": [],
   "source": [
    "#Testing for regression outliers\n",
    "outliers = results.outlier_test(method='bonf',alpha=0.05)\n",
    "abs_outliers = outliers.abs()\n",
    "abs_outliers.nlargest(10,'student_resid')\n",
    "abs_outliers.rename(columns={'bonf(p)':'bonf_p'}, inplace=True)"
   ]
  },
  {
   "cell_type": "code",
   "execution_count": 93,
   "metadata": {
    "collapsed": false
   },
   "outputs": [
    {
     "data": {
      "text/html": [
       "<div>\n",
       "<style>\n",
       "    .dataframe thead tr:only-child th {\n",
       "        text-align: right;\n",
       "    }\n",
       "\n",
       "    .dataframe thead th {\n",
       "        text-align: left;\n",
       "    }\n",
       "\n",
       "    .dataframe tbody tr th {\n",
       "        vertical-align: top;\n",
       "    }\n",
       "</style>\n",
       "<table border=\"1\" class=\"dataframe\">\n",
       "  <thead>\n",
       "    <tr style=\"text-align: right;\">\n",
       "      <th></th>\n",
       "      <th>student_resid</th>\n",
       "      <th>unadj_p</th>\n",
       "      <th>bonf_p</th>\n",
       "    </tr>\n",
       "    <tr>\n",
       "      <th>Date</th>\n",
       "      <th></th>\n",
       "      <th></th>\n",
       "      <th></th>\n",
       "    </tr>\n",
       "  </thead>\n",
       "  <tbody>\n",
       "    <tr>\n",
       "      <th>2013-01-24</th>\n",
       "      <td>9.949199</td>\n",
       "      <td>1.248261e-22</td>\n",
       "      <td>1.883626e-19</td>\n",
       "    </tr>\n",
       "    <tr>\n",
       "      <th>2014-01-28</th>\n",
       "      <td>6.679984</td>\n",
       "      <td>3.353445e-11</td>\n",
       "      <td>5.060349e-08</td>\n",
       "    </tr>\n",
       "    <tr>\n",
       "      <th>2014-04-24</th>\n",
       "      <td>5.608524</td>\n",
       "      <td>2.424334e-08</td>\n",
       "      <td>3.658320e-05</td>\n",
       "    </tr>\n",
       "    <tr>\n",
       "      <th>2012-04-25</th>\n",
       "      <td>4.774436</td>\n",
       "      <td>1.977454e-06</td>\n",
       "      <td>2.983978e-03</td>\n",
       "    </tr>\n",
       "    <tr>\n",
       "      <th>2012-12-05</th>\n",
       "      <td>4.697382</td>\n",
       "      <td>2.875419e-06</td>\n",
       "      <td>4.339008e-03</td>\n",
       "    </tr>\n",
       "    <tr>\n",
       "      <th>2015-01-28</th>\n",
       "      <td>4.625761</td>\n",
       "      <td>4.052344e-06</td>\n",
       "      <td>6.114987e-03</td>\n",
       "    </tr>\n",
       "    <tr>\n",
       "      <th>2016-07-27</th>\n",
       "      <td>4.539839</td>\n",
       "      <td>6.077925e-06</td>\n",
       "      <td>9.171589e-03</td>\n",
       "    </tr>\n",
       "    <tr>\n",
       "      <th>2016-04-27</th>\n",
       "      <td>4.536203</td>\n",
       "      <td>6.182165e-06</td>\n",
       "      <td>9.328886e-03</td>\n",
       "    </tr>\n",
       "    <tr>\n",
       "      <th>2013-09-11</th>\n",
       "      <td>4.348510</td>\n",
       "      <td>1.462752e-05</td>\n",
       "      <td>2.207293e-02</td>\n",
       "    </tr>\n",
       "  </tbody>\n",
       "</table>\n",
       "</div>"
      ],
      "text/plain": [
       "            student_resid       unadj_p        bonf_p\n",
       "Date                                                 \n",
       "2013-01-24       9.949199  1.248261e-22  1.883626e-19\n",
       "2014-01-28       6.679984  3.353445e-11  5.060349e-08\n",
       "2014-04-24       5.608524  2.424334e-08  3.658320e-05\n",
       "2012-04-25       4.774436  1.977454e-06  2.983978e-03\n",
       "2012-12-05       4.697382  2.875419e-06  4.339008e-03\n",
       "2015-01-28       4.625761  4.052344e-06  6.114987e-03\n",
       "2016-07-27       4.539839  6.077925e-06  9.171589e-03\n",
       "2016-04-27       4.536203  6.182165e-06  9.328886e-03\n",
       "2013-09-11       4.348510  1.462752e-05  2.207293e-02"
      ]
     },
     "execution_count": 93,
     "metadata": {},
     "output_type": "execute_result"
    }
   ],
   "source": [
    "# We should exclude from our data set any observation with a studentized residual \n",
    "# that is larger than 3 (in absolute value) is generally deemed an outlier\n",
    "abs_outliers[(abs_outliers.student_resid >=3.0) & (abs_outliers.bonf_p < 0.05)].sort_values(by='student_resid', ascending=False)"
   ]
  },
  {
   "cell_type": "code",
   "execution_count": 90,
   "metadata": {
    "collapsed": false
   },
   "outputs": [
    {
     "data": {
      "text/plain": [
       "Date\n",
       "2013-01-24    0.131707\n",
       "2014-01-28    0.089959\n",
       "2014-04-24    0.075840\n",
       "2012-04-25    0.064593\n",
       "2012-12-05    0.063617\n",
       "2015-01-28    0.062690\n",
       "2016-07-27    0.061585\n",
       "2016-04-27    0.061533\n",
       "2013-09-11    0.059056\n",
       "dtype: float64"
      ]
     },
     "execution_count": 90,
     "metadata": {},
     "output_type": "execute_result"
    }
   ],
   "source": [
    "results.resid.abs().nlargest(9).sort_values(ascending=False)\n",
    "# I got the ame results with normal residuals, i.e. without studentising them as previously"
   ]
  },
  {
   "cell_type": "code",
   "execution_count": 149,
   "metadata": {
    "collapsed": false
   },
   "outputs": [],
   "source": [
    "import statsmodels.stats.outliers_influence as inf\n",
    "inf_test = inf.OLSInfluence(results).summary_frame()"
   ]
  },
  {
   "cell_type": "code",
   "execution_count": 152,
   "metadata": {
    "collapsed": false
   },
   "outputs": [
    {
     "data": {
      "text/plain": [
       "Date\n",
       "2011-01-04    0.005033\n",
       "2011-01-05    0.001051\n",
       "2011-01-06    0.000342\n",
       "2011-01-07    0.000529\n",
       "2011-01-10    0.000899\n",
       "Name: hat_diag, dtype: float64"
      ]
     },
     "execution_count": 152,
     "metadata": {},
     "output_type": "execute_result"
    }
   ],
   "source": [
    "# Hat Matrix  -  H=X(X′X)−1X′\n",
    "# Using Leverages to Help Identify Extreme x Values\n",
    "#https://onlinecourses.science.psu.edu/stat501/node/338\n",
    "inf_test['hat_diag'].head()"
   ]
  },
  {
   "cell_type": "code",
   "execution_count": 156,
   "metadata": {
    "collapsed": false
   },
   "outputs": [
    {
     "name": "stdout",
     "output_type": "stream",
     "text": [
      "0.0380599734235\n",
      "3.0\n"
     ]
    }
   ],
   "source": [
    "#The diagonal elements of H, hii, are called leverages and satisfy\n",
    "# 0≤hii≤1\n",
    "print inf_test['hat_diag'].max()\n",
    "# Σ(hii)= p , i=1....n where p is the number of coefficients, and n is the number of observations in the regression\n",
    "print inf_test['hat_diag'].sum()"
   ]
  },
  {
   "cell_type": "code",
   "execution_count": 208,
   "metadata": {
    "collapsed": false
   },
   "outputs": [
    {
     "name": "stdout",
     "output_type": "stream",
     "text": [
      "0.00198807157058\n"
     ]
    }
   ],
   "source": [
    "# Purpose to use Hat Matrix is to check at leverage\n",
    "# Leverage is a measure of the effect of a particular observation on the regression predictions \n",
    "# due to the position of that observation in the space of the inputs. \n",
    "# In general, the farther a point is from the center of the input space, the more leverage it has. \n",
    "# Because the sum of the leverage values is p, an observation i can be considered as an outlier \n",
    "# if its leverage substantially exceeds the mean leverage value, p/n,\n",
    "# by a value larger than two or three times *p/n.\n",
    "mean_leverage = inf_test['hat_diag'].mean()\n",
    "print mean_leverage"
   ]
  },
  {
   "cell_type": "code",
   "execution_count": 220,
   "metadata": {
    "collapsed": false
   },
   "outputs": [
    {
     "data": {
      "text/html": [
       "<div>\n",
       "<style>\n",
       "    .dataframe thead tr:only-child th {\n",
       "        text-align: right;\n",
       "    }\n",
       "\n",
       "    .dataframe thead th {\n",
       "        text-align: left;\n",
       "    }\n",
       "\n",
       "    .dataframe tbody tr th {\n",
       "        vertical-align: top;\n",
       "    }\n",
       "</style>\n",
       "<table border=\"1\" class=\"dataframe\">\n",
       "  <thead>\n",
       "    <tr style=\"text-align: right;\">\n",
       "      <th></th>\n",
       "      <th>hat_diag</th>\n",
       "    </tr>\n",
       "    <tr>\n",
       "      <th>Date</th>\n",
       "      <th></th>\n",
       "    </tr>\n",
       "  </thead>\n",
       "  <tbody>\n",
       "    <tr>\n",
       "      <th>2011-08-08</th>\n",
       "      <td>0.038060</td>\n",
       "    </tr>\n",
       "    <tr>\n",
       "      <th>2011-10-04</th>\n",
       "      <td>0.033500</td>\n",
       "    </tr>\n",
       "    <tr>\n",
       "      <th>2015-08-26</th>\n",
       "      <td>0.023834</td>\n",
       "    </tr>\n",
       "    <tr>\n",
       "      <th>2015-08-21</th>\n",
       "      <td>0.023473</td>\n",
       "    </tr>\n",
       "    <tr>\n",
       "      <th>2011-08-04</th>\n",
       "      <td>0.018766</td>\n",
       "    </tr>\n",
       "    <tr>\n",
       "      <th>2011-08-10</th>\n",
       "      <td>0.017595</td>\n",
       "    </tr>\n",
       "    <tr>\n",
       "      <th>2011-08-09</th>\n",
       "      <td>0.017474</td>\n",
       "    </tr>\n",
       "    <tr>\n",
       "      <th>2016-11-11</th>\n",
       "      <td>0.017471</td>\n",
       "    </tr>\n",
       "    <tr>\n",
       "      <th>2011-08-18</th>\n",
       "      <td>0.017110</td>\n",
       "    </tr>\n",
       "    <tr>\n",
       "      <th>2011-08-11</th>\n",
       "      <td>0.016470</td>\n",
       "    </tr>\n",
       "  </tbody>\n",
       "</table>\n",
       "</div>"
      ],
      "text/plain": [
       "            hat_diag\n",
       "Date                \n",
       "2011-08-08  0.038060\n",
       "2011-10-04  0.033500\n",
       "2015-08-26  0.023834\n",
       "2015-08-21  0.023473\n",
       "2011-08-04  0.018766\n",
       "2011-08-10  0.017595\n",
       "2011-08-09  0.017474\n",
       "2016-11-11  0.017471\n",
       "2011-08-18  0.017110\n",
       "2011-08-11  0.016470"
      ]
     },
     "execution_count": 220,
     "metadata": {},
     "output_type": "execute_result"
    }
   ],
   "source": [
    "high_leverage_obs = inf_test.loc[inf_test['hat_diag']> 3*mean_leverage, ['hat_diag']]\n",
    "high_leverage_obs.nlargest(10,'hat_diag')\n",
    "#2011-08-08 Black Monday\n",
    "#2015-08-26 S&P 500 soared 3.9%\n",
    "# ..."
   ]
  },
  {
   "cell_type": "code",
   "execution_count": 223,
   "metadata": {
    "collapsed": false
   },
   "outputs": [
    {
     "data": {
      "text/plain": [
       "Close       109.690000\n",
       "ret           0.055770\n",
       "Mkt-RF        3.680000\n",
       "SMB          -1.350000\n",
       "HML          -0.370000\n",
       "RF            0.000000\n",
       "ret_pred      0.041582\n",
       "Name: 2015-08-26 00:00:00, dtype: float64"
      ]
     },
     "execution_count": 223,
     "metadata": {},
     "output_type": "execute_result"
    }
   ],
   "source": [
    "data.loc['2015-08-26']"
   ]
  },
  {
   "cell_type": "code",
   "execution_count": 222,
   "metadata": {
    "collapsed": false
   },
   "outputs": [
    {
     "data": {
      "text/plain": [
       "0.04990059642147114"
      ]
     },
     "execution_count": 222,
     "metadata": {},
     "output_type": "execute_result"
    }
   ],
   "source": [
    "data['Mkt-RF'].mean()"
   ]
  },
  {
   "cell_type": "code",
   "execution_count": 158,
   "metadata": {
    "collapsed": false
   },
   "outputs": [
    {
     "data": {
      "text/plain": [
       "<class 'statsmodels.stats.contrast.ContrastResults'>\n",
       "<F test: F=array([[ 0.81755521]]), p=0.513884439376, df_denom=1502, df_num=4>"
      ]
     },
     "execution_count": 158,
     "metadata": {},
     "output_type": "execute_result"
    }
   ],
   "source": [
    "# Ramsey Test\n",
    "'''\n",
    "This is a general specification test, for additional non-linear effects in a model.\n",
    "\n",
    "\n",
    "    Notes\n",
    "    -----\n",
    "    The test fits an auxiliary OLS regression where the design matrix, exog,\n",
    "    is augmented by powers 2 to degree of the fitted values. Then it performs\n",
    "    an F-test whether these additional terms are significant.\n",
    "\n",
    "    If the p-value of the f-test is below a threshold, e.g. 0.1, then this\n",
    "    indicates that there might be additional non-linear effects in the model\n",
    "    and that the linear model is mis-specified.\n",
    "'''\n",
    "inf.reset_ramsey(results)"
   ]
  },
  {
   "cell_type": "code",
   "execution_count": 173,
   "metadata": {
    "collapsed": false
   },
   "outputs": [],
   "source": [
    "T = np.linspace(1,100,100)\n",
    "S = np.square(T)"
   ]
  },
  {
   "cell_type": "code",
   "execution_count": 174,
   "metadata": {
    "collapsed": true
   },
   "outputs": [],
   "source": [
    "mod = sm.OLS(S,T)"
   ]
  },
  {
   "cell_type": "code",
   "execution_count": 175,
   "metadata": {
    "collapsed": true
   },
   "outputs": [],
   "source": [
    "res=mod.fit()"
   ]
  },
  {
   "cell_type": "code",
   "execution_count": 183,
   "metadata": {
    "collapsed": true
   },
   "outputs": [],
   "source": [
    "S_hat= res.predict(T)"
   ]
  },
  {
   "cell_type": "code",
   "execution_count": 184,
   "metadata": {
    "collapsed": false
   },
   "outputs": [
    {
     "data": {
      "text/plain": [
       "[<matplotlib.lines.Line2D at 0x141f8f70>]"
      ]
     },
     "execution_count": 184,
     "metadata": {},
     "output_type": "execute_result"
    },
    {
     "data": {
      "image/png": "[encoded data removed]",
      "text/plain": [
       "<matplotlib.figure.Figure at 0x140b60d0>"
      ]
     },
     "metadata": {},
     "output_type": "display_data"
    }
   ],
   "source": [
    "plt.scatter(T,S)\n",
    "plt.plot(S_hat,'r')"
   ]
  },
  {
   "cell_type": "code",
   "execution_count": 177,
   "metadata": {
    "collapsed": false
   },
   "outputs": [
    {
     "data": {
      "text/plain": [
       "<class 'statsmodels.stats.contrast.ContrastResults'>\n",
       "<F test: F=array([[  2.92932626e+25]]), p=0.0, df_denom=96, df_num=4>"
      ]
     },
     "execution_count": 177,
     "metadata": {},
     "output_type": "execute_result"
    }
   ],
   "source": [
    "inf.reset_ramsey(res)"
   ]
  },
  {
   "cell_type": "code",
   "execution_count": 185,
   "metadata": {
    "collapsed": true
   },
   "outputs": [],
   "source": [
    "import statsmodels.formula.api as smf"
   ]
  },
  {
   "cell_type": "code",
   "execution_count": null,
   "metadata": {
    "collapsed": true
   },
   "outputs": [],
   "source": [
    "# smof.ols (OLS in lower case) accepts formulas and data in dataframe "
   ]
  },
  {
   "cell_type": "code",
   "execution_count": 195,
   "metadata": {
    "collapsed": false
   },
   "outputs": [
    {
     "data": {
      "text/html": [
       "<table class=\"simpletable\">\n",
       "<caption>OLS Regression Results</caption>\n",
       "<tr>\n",
       "  <th>Dep. Variable:</th>            <td>S</td>        <th>  R-squared:         </th> <td>   1.000</td> \n",
       "</tr>\n",
       "<tr>\n",
       "  <th>Model:</th>                   <td>OLS</td>       <th>  Adj. R-squared:    </th> <td>   1.000</td> \n",
       "</tr>\n",
       "<tr>\n",
       "  <th>Method:</th>             <td>Least Squares</td>  <th>  F-statistic:       </th> <td>9.629e+30</td>\n",
       "</tr>\n",
       "<tr>\n",
       "  <th>Date:</th>             <td>Fri, 03 Nov 2017</td> <th>  Prob (F-statistic):</th>  <td>  0.00</td>  \n",
       "</tr>\n",
       "<tr>\n",
       "  <th>Time:</th>                 <td>11:50:07</td>     <th>  Log-Likelihood:    </th> <td>  2430.2</td> \n",
       "</tr>\n",
       "<tr>\n",
       "  <th>No. Observations:</th>      <td>   100</td>      <th>  AIC:               </th> <td>  -4854.</td> \n",
       "</tr>\n",
       "<tr>\n",
       "  <th>Df Residuals:</th>          <td>    97</td>      <th>  BIC:               </th> <td>  -4847.</td> \n",
       "</tr>\n",
       "<tr>\n",
       "  <th>Df Model:</th>              <td>     2</td>      <th>                     </th>     <td> </td>    \n",
       "</tr>\n",
       "<tr>\n",
       "  <th>Covariance Type:</th>      <td>nonrobust</td>    <th>                     </th>     <td> </td>    \n",
       "</tr>\n",
       "</table>\n",
       "<table class=\"simpletable\">\n",
       "<tr>\n",
       "        <td></td>          <th>coef</th>     <th>std err</th>      <th>t</th>      <th>P>|t|</th>  <th>[0.025</th>    <th>0.975]</th>  \n",
       "</tr>\n",
       "<tr>\n",
       "  <th>Intercept</th>    <td>  1.99e-12</td> <td>  2.1e-12</td> <td>    0.948</td> <td> 0.346</td> <td>-2.18e-12</td> <td> 6.16e-12</td>\n",
       "</tr>\n",
       "<tr>\n",
       "  <th>T</th>            <td>  3.73e-13</td> <td> 9.59e-14</td> <td>    3.889</td> <td> 0.000</td> <td> 1.83e-13</td> <td> 5.63e-13</td>\n",
       "</tr>\n",
       "<tr>\n",
       "  <th>np.square(T)</th> <td>    1.0000</td> <td>  9.2e-16</td> <td> 1.09e+15</td> <td> 0.000</td> <td>    1.000</td> <td>    1.000</td>\n",
       "</tr>\n",
       "</table>\n",
       "<table class=\"simpletable\">\n",
       "<tr>\n",
       "  <th>Omnibus:</th>       <td>19.103</td> <th>  Durbin-Watson:     </th> <td>   0.007</td>\n",
       "</tr>\n",
       "<tr>\n",
       "  <th>Prob(Omnibus):</th> <td> 0.000</td> <th>  Jarque-Bera (JB):  </th> <td>  23.491</td>\n",
       "</tr>\n",
       "<tr>\n",
       "  <th>Skew:</th>          <td> 1.166</td> <th>  Prob(JB):          </th> <td>7.93e-06</td>\n",
       "</tr>\n",
       "<tr>\n",
       "  <th>Kurtosis:</th>      <td> 3.444</td> <th>  Cond. No.          </th> <td>1.39e+04</td>\n",
       "</tr>\n",
       "</table>"
      ],
      "text/plain": [
       "<class 'statsmodels.iolib.summary.Summary'>\n",
       "\"\"\"\n",
       "                            OLS Regression Results                            \n",
       "==============================================================================\n",
       "Dep. Variable:                      S   R-squared:                       1.000\n",
       "Model:                            OLS   Adj. R-squared:                  1.000\n",
       "Method:                 Least Squares   F-statistic:                 9.629e+30\n",
       "Date:                Fri, 03 Nov 2017   Prob (F-statistic):               0.00\n",
       "Time:                        11:50:07   Log-Likelihood:                 2430.2\n",
       "No. Observations:                 100   AIC:                            -4854.\n",
       "Df Residuals:                      97   BIC:                            -4847.\n",
       "Df Model:                           2                                         \n",
       "Covariance Type:            nonrobust                                         \n",
       "================================================================================\n",
       "                   coef    std err          t      P>|t|      [0.025      0.975]\n",
       "--------------------------------------------------------------------------------\n",
       "Intercept      1.99e-12    2.1e-12      0.948      0.346   -2.18e-12    6.16e-12\n",
       "T              3.73e-13   9.59e-14      3.889      0.000    1.83e-13    5.63e-13\n",
       "np.square(T)     1.0000    9.2e-16   1.09e+15      0.000       1.000       1.000\n",
       "==============================================================================\n",
       "Omnibus:                       19.103   Durbin-Watson:                   0.007\n",
       "Prob(Omnibus):                  0.000   Jarque-Bera (JB):               23.491\n",
       "Skew:                           1.166   Prob(JB):                     7.93e-06\n",
       "Kurtosis:                       3.444   Cond. No.                     1.39e+04\n",
       "==============================================================================\n",
       "\n",
       "Warnings:\n",
       "[1] Standard Errors assume that the covariance matrix of the errors is correctly specified.\n",
       "[2] The condition number is large, 1.39e+04. This might indicate that there are\n",
       "strong multicollinearity or other numerical problems.\n",
       "\"\"\""
      ]
     },
     "execution_count": 195,
     "metadata": {},
     "output_type": "execute_result"
    }
   ],
   "source": [
    "df = pd.DataFrame(T,S)\n",
    "mod1 = smf.ols('S ~ T + np.square(T)', data = df)\n",
    "res1 = mod1.fit()\n",
    "res1.summary()"
   ]
  },
  {
   "cell_type": "code",
   "execution_count": 201,
   "metadata": {
    "collapsed": false
   },
   "outputs": [],
   "source": [
    "S_hat = res1.predict(T)"
   ]
  },
  {
   "cell_type": "code",
   "execution_count": 202,
   "metadata": {
    "collapsed": false
   },
   "outputs": [
    {
     "data": {
      "text/plain": [
       "[<matplotlib.lines.Line2D at 0x14813fd0>]"
      ]
     },
     "execution_count": 202,
     "metadata": {},
     "output_type": "execute_result"
    },
    {
     "data": {
      "image/png": "[encoded data removed]",
      "text/plain": [
       "<matplotlib.figure.Figure at 0x145d3990>"
      ]
     },
     "metadata": {},
     "output_type": "display_data"
    }
   ],
   "source": [
    "plt.scatter(T,S)\n",
    "plt.plot(S_hat,'r')"
   ]
  },
  {
   "cell_type": "code",
   "execution_count": null,
   "metadata": {
    "collapsed": true
   },
   "outputs": [],
   "source": [
    "#Influence\n",
    "#• DFBETAs, Cook’s D, influence plots, added-variable plots (partial regression plots)"
   ]
  },
  {
   "cell_type": "code",
   "execution_count": 225,
   "metadata": {
    "collapsed": false
   },
   "outputs": [
    {
     "data": {
      "text/plain": [
       "0.0006769176063846982"
      ]
     },
     "execution_count": 225,
     "metadata": {},
     "output_type": "execute_result"
    }
   ],
   "source": [
    "# Cook’s Distance (another outlier test)\n",
    "# https://uk.mathworks.com/help/stats/cooks-distance.html?searchHighlight=Cook%27s%20distance&s_tid=doc_srchtitle\n",
    "# Cook’s distance is useful for identifying outliers in the X values (observations for predictor variables). \n",
    "#It also shows the influence of each observation on the fitted response values. \n",
    "#An observation with Cook’s distance larger than three times the mean Cook’s distance might be an outlier.\n",
    "inf_test.cooks_d.mean()"
   ]
  },
  {
   "cell_type": "code",
   "execution_count": 228,
   "metadata": {
    "collapsed": false
   },
   "outputs": [],
   "source": [
    "cooks_d = inf_test.loc[inf_test['cooks_d']> 3*inf_test.cooks_d.mean(), 'cooks_d']"
   ]
  },
  {
   "cell_type": "code",
   "execution_count": 229,
   "metadata": {
    "collapsed": false
   },
   "outputs": [
    {
     "data": {
      "text/plain": [
       "Date\n",
       "2016-01-27    0.041907\n",
       "2012-04-25    0.040430\n",
       "2015-08-21    0.037175\n",
       "2012-12-05    0.027396\n",
       "2011-10-04    0.026022\n",
       "2015-01-28    0.019985\n",
       "2012-11-07    0.017071\n",
       "2015-10-28    0.014908\n",
       "2012-05-21    0.014294\n",
       "2012-11-19    0.013167\n",
       "Name: cooks_d, dtype: float64"
      ]
     },
     "execution_count": 229,
     "metadata": {},
     "output_type": "execute_result"
    }
   ],
   "source": [
    "cooks_d.nlargest(10)"
   ]
  },
  {
   "cell_type": "code",
   "execution_count": 244,
   "metadata": {
    "collapsed": false
   },
   "outputs": [
    {
     "data": {
      "text/plain": [
       "<matplotlib.lines.Line2D at 0x1530a270>"
      ]
     },
     "execution_count": 244,
     "metadata": {},
     "output_type": "execute_result"
    },
    {
     "data": {
      "image/png": "[encoded data removed]",
      "text/plain": [
       "<matplotlib.figure.Figure at 0x153542d0>"
      ]
     },
     "metadata": {},
     "output_type": "display_data"
    }
   ],
   "source": [
    "fig1, ax = plt.subplots()\n",
    "plt.scatter(inf_test.index,inf_test['cooks_d'])\n",
    "plt.ylim([0.00,0.06])\n",
    "plt.axhline(3*inf_test.cooks_d.mean(),color='r')"
   ]
  },
  {
   "cell_type": "code",
   "execution_count": 253,
   "metadata": {
    "collapsed": false
   },
   "outputs": [
    {
     "data": {
      "text/html": [
       "<div>\n",
       "<style>\n",
       "    .dataframe thead tr:only-child th {\n",
       "        text-align: right;\n",
       "    }\n",
       "\n",
       "    .dataframe thead th {\n",
       "        text-align: left;\n",
       "    }\n",
       "\n",
       "    .dataframe tbody tr th {\n",
       "        vertical-align: top;\n",
       "    }\n",
       "</style>\n",
       "<table border=\"1\" class=\"dataframe\">\n",
       "  <thead>\n",
       "    <tr style=\"text-align: right;\">\n",
       "      <th></th>\n",
       "      <th>dfb_Mkt-RF</th>\n",
       "      <th>dfb_SMB</th>\n",
       "      <th>dfb_HML</th>\n",
       "    </tr>\n",
       "    <tr>\n",
       "      <th>Date</th>\n",
       "      <th></th>\n",
       "      <th></th>\n",
       "      <th></th>\n",
       "    </tr>\n",
       "  </thead>\n",
       "  <tbody>\n",
       "    <tr>\n",
       "      <th>2011-01-04</th>\n",
       "      <td>0.007443</td>\n",
       "      <td>-0.026817</td>\n",
       "      <td>-0.002188</td>\n",
       "    </tr>\n",
       "    <tr>\n",
       "      <th>2011-01-05</th>\n",
       "      <td>0.001075</td>\n",
       "      <td>0.009812</td>\n",
       "      <td>0.003823</td>\n",
       "    </tr>\n",
       "    <tr>\n",
       "      <th>2011-01-06</th>\n",
       "      <td>-0.000017</td>\n",
       "      <td>0.000581</td>\n",
       "      <td>0.002148</td>\n",
       "    </tr>\n",
       "    <tr>\n",
       "      <th>2011-01-07</th>\n",
       "      <td>0.001095</td>\n",
       "      <td>-0.006815</td>\n",
       "      <td>-0.008732</td>\n",
       "    </tr>\n",
       "    <tr>\n",
       "      <th>2011-01-10</th>\n",
       "      <td>-0.014591</td>\n",
       "      <td>0.040237</td>\n",
       "      <td>-0.004226</td>\n",
       "    </tr>\n",
       "  </tbody>\n",
       "</table>\n",
       "</div>"
      ],
      "text/plain": [
       "            dfb_Mkt-RF   dfb_SMB   dfb_HML\n",
       "Date                                      \n",
       "2011-01-04    0.007443 -0.026817 -0.002188\n",
       "2011-01-05    0.001075  0.009812  0.003823\n",
       "2011-01-06   -0.000017  0.000581  0.002148\n",
       "2011-01-07    0.001095 -0.006815 -0.008732\n",
       "2011-01-10   -0.014591  0.040237 -0.004226"
      ]
     },
     "execution_count": 253,
     "metadata": {},
     "output_type": "execute_result"
    }
   ],
   "source": [
    "#• DFBETAs\n",
    "# https://uk.mathworks.com/help/stats/delete-1-statistics.html#btkvxq6-12\n",
    "# Dfbetas for coefficient j and observation i is the ratio of the difference \n",
    "#in the estimate of coefficient j using all observations and the one obtained by removing observation i, \n",
    "# and the standard error of the coefficient estimate obtained by removing observation i.\n",
    "difbetas = inf_test.iloc[:,:3]\n",
    "difbetas.head()"
   ]
  },
  {
   "cell_type": "code",
   "execution_count": 278,
   "metadata": {
    "collapsed": true
   },
   "outputs": [],
   "source": [
    "# A Dfbetas value larger than 3/sqrt(n) in absolute value \n",
    "# indicates that the observation has a large influence on the corresponding coefficient.\n",
    "difbetas = difbetas.abs()\n",
    "outliers = difbetas[difbetas > 3/(np.sqrt(len(difbetas)))]"
   ]
  },
  {
   "cell_type": "code",
   "execution_count": 279,
   "metadata": {
    "collapsed": false
   },
   "outputs": [
    {
     "name": "stdout",
     "output_type": "stream",
     "text": [
      "<class 'pandas.core.frame.DataFrame'>\n",
      "DatetimeIndex: 1509 entries, 2011-01-04 to 2016-12-30\n",
      "Data columns (total 3 columns):\n",
      "dfb_Mkt-RF    36 non-null float64\n",
      "dfb_SMB       25 non-null float64\n",
      "dfb_HML       35 non-null float64\n",
      "dtypes: float64(3)\n",
      "memory usage: 79.2 KB\n"
     ]
    }
   ],
   "source": [
    "outliers.info()"
   ]
  },
  {
   "cell_type": "code",
   "execution_count": 280,
   "metadata": {
    "collapsed": false
   },
   "outputs": [],
   "source": [
    "outliers = outliers[(outliers['dfb_Mkt-RF'].notnull())| (outliers['dfb_SMB'].notnull())|(outliers['dfb_HML'].notnull())]"
   ]
  },
  {
   "cell_type": "code",
   "execution_count": 283,
   "metadata": {
    "collapsed": false
   },
   "outputs": [
    {
     "data": {
      "text/html": [
       "<div>\n",
       "<style>\n",
       "    .dataframe thead tr:only-child th {\n",
       "        text-align: right;\n",
       "    }\n",
       "\n",
       "    .dataframe thead th {\n",
       "        text-align: left;\n",
       "    }\n",
       "\n",
       "    .dataframe tbody tr th {\n",
       "        vertical-align: top;\n",
       "    }\n",
       "</style>\n",
       "<table border=\"1\" class=\"dataframe\">\n",
       "  <thead>\n",
       "    <tr style=\"text-align: right;\">\n",
       "      <th></th>\n",
       "      <th>dfb_Mkt-RF</th>\n",
       "      <th>dfb_SMB</th>\n",
       "      <th>dfb_HML</th>\n",
       "    </tr>\n",
       "    <tr>\n",
       "      <th>Date</th>\n",
       "      <th></th>\n",
       "      <th></th>\n",
       "      <th></th>\n",
       "    </tr>\n",
       "  </thead>\n",
       "  <tbody>\n",
       "    <tr>\n",
       "      <th>2011-03-16</th>\n",
       "      <td>0.127794</td>\n",
       "      <td>0.107366</td>\n",
       "      <td>NaN</td>\n",
       "    </tr>\n",
       "    <tr>\n",
       "      <th>2011-07-20</th>\n",
       "      <td>NaN</td>\n",
       "      <td>NaN</td>\n",
       "      <td>0.090919</td>\n",
       "    </tr>\n",
       "    <tr>\n",
       "      <th>2011-08-04</th>\n",
       "      <td>0.091663</td>\n",
       "      <td>NaN</td>\n",
       "      <td>NaN</td>\n",
       "    </tr>\n",
       "    <tr>\n",
       "      <th>2011-08-09</th>\n",
       "      <td>0.140402</td>\n",
       "      <td>NaN</td>\n",
       "      <td>NaN</td>\n",
       "    </tr>\n",
       "    <tr>\n",
       "      <th>2011-08-11</th>\n",
       "      <td>0.120911</td>\n",
       "      <td>NaN</td>\n",
       "      <td>NaN</td>\n",
       "    </tr>\n",
       "  </tbody>\n",
       "</table>\n",
       "</div>"
      ],
      "text/plain": [
       "            dfb_Mkt-RF   dfb_SMB   dfb_HML\n",
       "Date                                      \n",
       "2011-03-16    0.127794  0.107366       NaN\n",
       "2011-07-20         NaN       NaN  0.090919\n",
       "2011-08-04    0.091663       NaN       NaN\n",
       "2011-08-09    0.140402       NaN       NaN\n",
       "2011-08-11    0.120911       NaN       NaN"
      ]
     },
     "execution_count": 283,
     "metadata": {},
     "output_type": "execute_result"
    }
   ],
   "source": [
    "outliers.head()"
   ]
  },
  {
   "cell_type": "code",
   "execution_count": 286,
   "metadata": {
    "collapsed": false
   },
   "outputs": [],
   "source": [
    "# A problem with DFBetas is that each observation has several measures of influence -one for each coecient n(k + 1) \n",
    "# Cook’s D overcomes the problem by presenting a single summary measure for each observation"
   ]
  },
  {
   "cell_type": "code",
   "execution_count": null,
   "metadata": {
    "collapsed": true
   },
   "outputs": [],
   "source": [
    "# Dffits) show the influence of each observation on the fitted response values. \n",
    "# Dffits values with an absolute value larger than 2*sqrt(p/n) might be influential.\n",
    "# This approach combines studentized residuals and leverage values hii from the Hat Matrix"
   ]
  },
  {
   "cell_type": "code",
   "execution_count": 295,
   "metadata": {
    "collapsed": false
   },
   "outputs": [],
   "source": [
    "# Influence Plot\n",
    "import statsmodels.graphics.regressionplots as stat_plots"
   ]
  },
  {
   "cell_type": "code",
   "execution_count": null,
   "metadata": {
    "collapsed": true
   },
   "outputs": [],
   "source": [
    "# NOT WORKING\n",
    "# stat_plots.plot_added_variable(results,'Mkt-RF') "
   ]
  },
  {
   "cell_type": "code",
   "execution_count": 349,
   "metadata": {
    "collapsed": false
   },
   "outputs": [
    {
     "data": {
      "text/plain": [
       "['Mkt-RF', 'SMB', 'HML']"
      ]
     },
     "execution_count": 349,
     "metadata": {},
     "output_type": "execute_result"
    }
   ],
   "source": [
    "model.exog_names"
   ]
  },
  {
   "cell_type": "code",
   "execution_count": 347,
   "metadata": {
    "collapsed": false
   },
   "outputs": [
    {
     "ename": "TypeError",
     "evalue": "'Figure' object does not support indexing",
     "output_type": "error",
     "traceback": [
      "\u001b[1;31m---------------------------------------------------------------------------\u001b[0m",
      "\u001b[1;31mTypeError\u001b[0m                                 Traceback (most recent call last)",
      "\u001b[1;32m<ipython-input-347-613f9b53dd9f>\u001b[0m in \u001b[0;36m<module>\u001b[1;34m()\u001b[0m\n\u001b[1;32m----> 1\u001b[1;33m \u001b[0mstat_plots\u001b[0m\u001b[1;33m.\u001b[0m\u001b[0mplot_partregress_grid\u001b[0m\u001b[1;33m(\u001b[0m\u001b[0mresults\u001b[0m\u001b[1;33m)\u001b[0m\u001b[1;33m[\u001b[0m\u001b[1;36m1\u001b[0m\u001b[1;33m]\u001b[0m\u001b[1;33m\u001b[0m\u001b[0m\n\u001b[0m\u001b[0;32m      2\u001b[0m \u001b[1;31m#A subplot is created for each explanatory variable given by exog_idx.\u001b[0m\u001b[1;33m\u001b[0m\u001b[1;33m\u001b[0m\u001b[0m\n\u001b[0;32m      3\u001b[0m \u001b[1;31m#The partial regression plot shows the relationship between the response\u001b[0m\u001b[1;33m\u001b[0m\u001b[1;33m\u001b[0m\u001b[0m\n\u001b[0;32m      4\u001b[0m \u001b[1;31m#and the given explanatory variable after removing the effect of all other\u001b[0m\u001b[1;33m\u001b[0m\u001b[1;33m\u001b[0m\u001b[0m\n\u001b[0;32m      5\u001b[0m \u001b[1;31m#explanatory variables in exog.\u001b[0m\u001b[1;33m\u001b[0m\u001b[1;33m\u001b[0m\u001b[0m\n",
      "\u001b[1;31mTypeError\u001b[0m: 'Figure' object does not support indexing"
     ]
    },
    {
     "data": {
      "image/png": "[encoded data removed]",
      "text/plain": [
       "<matplotlib.figure.Figure at 0x160288b0>"
      ]
     },
     "metadata": {},
     "output_type": "display_data"
    }
   ],
   "source": [
    "stat_plots.plot_partregress_grid(results)[1]\n",
    "#A subplot is created for each explanatory variable given by exog_idx.\n",
    "#The partial regression plot shows the relationship between the response\n",
    "#and the given explanatory variable after removing the effect of all other\n",
    "#explanatory variables in exog."
   ]
  },
  {
   "cell_type": "code",
   "execution_count": null,
   "metadata": {
    "collapsed": true
   },
   "outputs": [],
   "source": []
  }
 ],
 "metadata": {
  "anaconda-cloud": {},
  "kernelspec": {
   "display_name": "Python [Root]",
   "language": "python",
   "name": "Python [Root]"
  },
  "language_info": {
   "codemirror_mode": {
    "name": "ipython",
    "version": 2
   },
   "file_extension": ".py",
   "mimetype": "text/x-python",
   "name": "python",
   "nbconvert_exporter": "python",
   "pygments_lexer": "ipython2",
   "version": "2.7.12"
  }
 },
 "nbformat": 4,
 "nbformat_minor": 0
}
